{
 "cells": [
  {
   "cell_type": "markdown",
   "metadata": {},
   "source": [
    "# Julia Draw Something"
   ]
  },
  {
   "cell_type": "code",
   "execution_count": 1,
   "metadata": {
    "collapsed": false
   },
   "outputs": [],
   "source": [
    "using DataFrames"
   ]
  },
  {
   "cell_type": "code",
   "execution_count": 2,
   "metadata": {
    "collapsed": false
   },
   "outputs": [
    {
     "data": {
      "text/html": [
       "<table class=\"data-frame\"><thead><tr><th></th><th>x5_1</th><th>x3_5</th><th>x1_4</th><th>x0_2</th><th>Iris_setosa</th></tr></thead><tbody><tr><th>1</th><td>4.9</td><td>3.0</td><td>1.4</td><td>0.2</td><td>Iris-setosa</td></tr><tr><th>2</th><td>4.7</td><td>3.2</td><td>1.3</td><td>0.2</td><td>Iris-setosa</td></tr><tr><th>3</th><td>4.6</td><td>3.1</td><td>1.5</td><td>0.2</td><td>Iris-setosa</td></tr><tr><th>4</th><td>5.0</td><td>3.6</td><td>1.4</td><td>0.2</td><td>Iris-setosa</td></tr><tr><th>5</th><td>5.4</td><td>3.9</td><td>1.7</td><td>0.4</td><td>Iris-setosa</td></tr><tr><th>6</th><td>4.6</td><td>3.4</td><td>1.4</td><td>0.3</td><td>Iris-setosa</td></tr><tr><th>7</th><td>5.0</td><td>3.4</td><td>1.5</td><td>0.2</td><td>Iris-setosa</td></tr><tr><th>8</th><td>4.4</td><td>2.9</td><td>1.4</td><td>0.2</td><td>Iris-setosa</td></tr><tr><th>9</th><td>4.9</td><td>3.1</td><td>1.5</td><td>0.1</td><td>Iris-setosa</td></tr><tr><th>10</th><td>5.4</td><td>3.7</td><td>1.5</td><td>0.2</td><td>Iris-setosa</td></tr><tr><th>11</th><td>4.8</td><td>3.4</td><td>1.6</td><td>0.2</td><td>Iris-setosa</td></tr><tr><th>12</th><td>4.8</td><td>3.0</td><td>1.4</td><td>0.1</td><td>Iris-setosa</td></tr><tr><th>13</th><td>4.3</td><td>3.0</td><td>1.1</td><td>0.1</td><td>Iris-setosa</td></tr><tr><th>14</th><td>5.8</td><td>4.0</td><td>1.2</td><td>0.2</td><td>Iris-setosa</td></tr><tr><th>15</th><td>5.7</td><td>4.4</td><td>1.5</td><td>0.4</td><td>Iris-setosa</td></tr><tr><th>16</th><td>5.4</td><td>3.9</td><td>1.3</td><td>0.4</td><td>Iris-setosa</td></tr><tr><th>17</th><td>5.1</td><td>3.5</td><td>1.4</td><td>0.3</td><td>Iris-setosa</td></tr><tr><th>18</th><td>5.7</td><td>3.8</td><td>1.7</td><td>0.3</td><td>Iris-setosa</td></tr><tr><th>19</th><td>5.1</td><td>3.8</td><td>1.5</td><td>0.3</td><td>Iris-setosa</td></tr><tr><th>20</th><td>5.4</td><td>3.4</td><td>1.7</td><td>0.2</td><td>Iris-setosa</td></tr><tr><th>21</th><td>5.1</td><td>3.7</td><td>1.5</td><td>0.4</td><td>Iris-setosa</td></tr><tr><th>22</th><td>4.6</td><td>3.6</td><td>1.0</td><td>0.2</td><td>Iris-setosa</td></tr><tr><th>23</th><td>5.1</td><td>3.3</td><td>1.7</td><td>0.5</td><td>Iris-setosa</td></tr><tr><th>24</th><td>4.8</td><td>3.4</td><td>1.9</td><td>0.2</td><td>Iris-setosa</td></tr><tr><th>25</th><td>5.0</td><td>3.0</td><td>1.6</td><td>0.2</td><td>Iris-setosa</td></tr><tr><th>26</th><td>5.0</td><td>3.4</td><td>1.6</td><td>0.4</td><td>Iris-setosa</td></tr><tr><th>27</th><td>5.2</td><td>3.5</td><td>1.5</td><td>0.2</td><td>Iris-setosa</td></tr><tr><th>28</th><td>5.2</td><td>3.4</td><td>1.4</td><td>0.2</td><td>Iris-setosa</td></tr><tr><th>29</th><td>4.7</td><td>3.2</td><td>1.6</td><td>0.2</td><td>Iris-setosa</td></tr><tr><th>30</th><td>4.8</td><td>3.1</td><td>1.6</td><td>0.2</td><td>Iris-setosa</td></tr><tr><th>&vellip;</th><td>&vellip;</td><td>&vellip;</td><td>&vellip;</td><td>&vellip;</td><td>&vellip;</td></tr></tbody></table>"
      ],
      "text/plain": [
       "149×5 DataFrames.DataFrame\n",
       "│ Row │ x5_1 │ x3_5 │ x1_4 │ x0_2 │ Iris_setosa      │\n",
       "├─────┼──────┼──────┼──────┼──────┼──────────────────┤\n",
       "│ 1   │ 4.9  │ 3.0  │ 1.4  │ 0.2  │ \"Iris-setosa\"    │\n",
       "│ 2   │ 4.7  │ 3.2  │ 1.3  │ 0.2  │ \"Iris-setosa\"    │\n",
       "│ 3   │ 4.6  │ 3.1  │ 1.5  │ 0.2  │ \"Iris-setosa\"    │\n",
       "│ 4   │ 5.0  │ 3.6  │ 1.4  │ 0.2  │ \"Iris-setosa\"    │\n",
       "│ 5   │ 5.4  │ 3.9  │ 1.7  │ 0.4  │ \"Iris-setosa\"    │\n",
       "│ 6   │ 4.6  │ 3.4  │ 1.4  │ 0.3  │ \"Iris-setosa\"    │\n",
       "│ 7   │ 5.0  │ 3.4  │ 1.5  │ 0.2  │ \"Iris-setosa\"    │\n",
       "│ 8   │ 4.4  │ 2.9  │ 1.4  │ 0.2  │ \"Iris-setosa\"    │\n",
       "│ 9   │ 4.9  │ 3.1  │ 1.5  │ 0.1  │ \"Iris-setosa\"    │\n",
       "│ 10  │ 5.4  │ 3.7  │ 1.5  │ 0.2  │ \"Iris-setosa\"    │\n",
       "│ 11  │ 4.8  │ 3.4  │ 1.6  │ 0.2  │ \"Iris-setosa\"    │\n",
       "⋮\n",
       "│ 138 │ 6.0  │ 3.0  │ 4.8  │ 1.8  │ \"Iris-virginica\" │\n",
       "│ 139 │ 6.9  │ 3.1  │ 5.4  │ 2.1  │ \"Iris-virginica\" │\n",
       "│ 140 │ 6.7  │ 3.1  │ 5.6  │ 2.4  │ \"Iris-virginica\" │\n",
       "│ 141 │ 6.9  │ 3.1  │ 5.1  │ 2.3  │ \"Iris-virginica\" │\n",
       "│ 142 │ 5.8  │ 2.7  │ 5.1  │ 1.9  │ \"Iris-virginica\" │\n",
       "│ 143 │ 6.8  │ 3.2  │ 5.9  │ 2.3  │ \"Iris-virginica\" │\n",
       "│ 144 │ 6.7  │ 3.3  │ 5.7  │ 2.5  │ \"Iris-virginica\" │\n",
       "│ 145 │ 6.7  │ 3.0  │ 5.2  │ 2.3  │ \"Iris-virginica\" │\n",
       "│ 146 │ 6.3  │ 2.5  │ 5.0  │ 1.9  │ \"Iris-virginica\" │\n",
       "│ 147 │ 6.5  │ 3.0  │ 5.2  │ 2.0  │ \"Iris-virginica\" │\n",
       "│ 148 │ 6.2  │ 3.4  │ 5.4  │ 2.3  │ \"Iris-virginica\" │\n",
       "│ 149 │ 5.9  │ 3.0  │ 5.1  │ 1.8  │ \"Iris-virginica\" │"
      ]
     },
     "execution_count": 2,
     "metadata": {},
     "output_type": "execute_result"
    }
   ],
   "source": [
    "df = readtable(\"iris.csv\")"
   ]
  },
  {
   "cell_type": "code",
   "execution_count": 3,
   "metadata": {
    "collapsed": false
   },
   "outputs": [
    {
     "data": {
      "text/plain": [
       "9"
      ]
     },
     "execution_count": 3,
     "metadata": {},
     "output_type": "execute_result"
    }
   ],
   "source": [
    "5+4"
   ]
  },
  {
   "cell_type": "code",
   "execution_count": null,
   "metadata": {
    "collapsed": true
   },
   "outputs": [],
   "source": []
  }
 ],
 "metadata": {
  "kernelspec": {
   "display_name": "Julia 0.5.0",
   "language": "julia",
   "name": "julia-0.5"
  },
  "language_info": {
   "file_extension": ".jl",
   "mimetype": "application/julia",
   "name": "julia",
   "version": "0.5.0"
  }
 },
 "nbformat": 4,
 "nbformat_minor": 0
}

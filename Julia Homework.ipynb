{
 "cells": [
  {
   "cell_type": "markdown",
   "metadata": {},
   "source": [
    "# Julia Homework\n",
    "Your Name Here\n",
    "\n",
    "### Titanic Analysis\n",
    "\n",
    "### Setup\n",
    "- Go to [JuliaBox](https://www.juliabox.com/)\n",
    "- Click on `Console` in the top menu\n",
    "- Type `julia` in the console and hit enter\n",
    "- Run `Pkg.install(\"DataFrames\")`\n",
    "- Hit Cntrl+D to exit\n",
    "- Click on `Jupyter` in the top menu\n",
    "- Click `Upload` and upload the train.csv dataset\n",
    "- Start coding!\n",
    "\n",
    "### Grading\n",
    "- How many males vs females died? (2.5pts)\n",
    "- How did the # of siblings a passenger had relate to the survival of the passenger? (2.5pts)\n",
    "- How did the passenger fare relate to the survival of the passenger? (2.5pts)\n",
    "- How did the passenger class relate to the survival of the passenger? (2.5pts)\n",
    "\n",
    "### Or\n",
    "- Use a random forest to make a predictive model on who lives/dies. (100% on assignment and a pat on the back)\n",
    "\n",
    "### Data Description\n",
    "![alt-img](https://i.gyazo.com/52718ce716290c7bc07e26f2282ecc86.png)"
   ]
  },
  {
   "cell_type": "code",
   "execution_count": 1,
   "metadata": {
    "collapsed": true
   },
   "outputs": [],
   "source": [
    "using DataFrames"
   ]
  },
  {
   "cell_type": "code",
   "execution_count": 4,
   "metadata": {
    "collapsed": false
   },
   "outputs": [
    {
     "data": {
      "text/html": [
       "<table class=\"data-frame\"><thead><tr><th></th><th>PassengerId</th><th>Survived</th><th>Pclass</th><th>Name</th><th>Sex</th><th>Age</th><th>SibSp</th><th>Parch</th><th>Ticket</th><th>Fare</th><th>Cabin</th><th>Embarked</th></tr></thead><tbody><tr><th>1</th><td>1</td><td>0</td><td>3</td><td>Braund, Mr. Owen Harris</td><td>male</td><td>22.0</td><td>1</td><td>0</td><td>A/5 21171</td><td>7.25</td><td>NA</td><td>S</td></tr><tr><th>2</th><td>2</td><td>1</td><td>1</td><td>Cumings, Mrs. John Bradley (Florence Briggs Thayer)</td><td>female</td><td>38.0</td><td>1</td><td>0</td><td>PC 17599</td><td>71.2833</td><td>C85</td><td>C</td></tr><tr><th>3</th><td>3</td><td>1</td><td>3</td><td>Heikkinen, Miss. Laina</td><td>female</td><td>26.0</td><td>0</td><td>0</td><td>STON/O2. 3101282</td><td>7.925</td><td>NA</td><td>S</td></tr><tr><th>4</th><td>4</td><td>1</td><td>1</td><td>Futrelle, Mrs. Jacques Heath (Lily May Peel)</td><td>female</td><td>35.0</td><td>1</td><td>0</td><td>113803</td><td>53.1</td><td>C123</td><td>S</td></tr><tr><th>5</th><td>5</td><td>0</td><td>3</td><td>Allen, Mr. William Henry</td><td>male</td><td>35.0</td><td>0</td><td>0</td><td>373450</td><td>8.05</td><td>NA</td><td>S</td></tr><tr><th>6</th><td>6</td><td>0</td><td>3</td><td>Moran, Mr. James</td><td>male</td><td>NA</td><td>0</td><td>0</td><td>330877</td><td>8.4583</td><td>NA</td><td>Q</td></tr><tr><th>7</th><td>7</td><td>0</td><td>1</td><td>McCarthy, Mr. Timothy J</td><td>male</td><td>54.0</td><td>0</td><td>0</td><td>17463</td><td>51.8625</td><td>E46</td><td>S</td></tr><tr><th>8</th><td>8</td><td>0</td><td>3</td><td>Palsson, Master. Gosta Leonard</td><td>male</td><td>2.0</td><td>3</td><td>1</td><td>349909</td><td>21.075</td><td>NA</td><td>S</td></tr><tr><th>9</th><td>9</td><td>1</td><td>3</td><td>Johnson, Mrs. Oscar W (Elisabeth Vilhelmina Berg)</td><td>female</td><td>27.0</td><td>0</td><td>2</td><td>347742</td><td>11.1333</td><td>NA</td><td>S</td></tr><tr><th>10</th><td>10</td><td>1</td><td>2</td><td>Nasser, Mrs. Nicholas (Adele Achem)</td><td>female</td><td>14.0</td><td>1</td><td>0</td><td>237736</td><td>30.0708</td><td>NA</td><td>C</td></tr><tr><th>11</th><td>11</td><td>1</td><td>3</td><td>Sandstrom, Miss. Marguerite Rut</td><td>female</td><td>4.0</td><td>1</td><td>1</td><td>PP 9549</td><td>16.7</td><td>G6</td><td>S</td></tr><tr><th>12</th><td>12</td><td>1</td><td>1</td><td>Bonnell, Miss. Elizabeth</td><td>female</td><td>58.0</td><td>0</td><td>0</td><td>113783</td><td>26.55</td><td>C103</td><td>S</td></tr><tr><th>13</th><td>13</td><td>0</td><td>3</td><td>Saundercock, Mr. William Henry</td><td>male</td><td>20.0</td><td>0</td><td>0</td><td>A/5. 2151</td><td>8.05</td><td>NA</td><td>S</td></tr><tr><th>14</th><td>14</td><td>0</td><td>3</td><td>Andersson, Mr. Anders Johan</td><td>male</td><td>39.0</td><td>1</td><td>5</td><td>347082</td><td>31.275</td><td>NA</td><td>S</td></tr><tr><th>15</th><td>15</td><td>0</td><td>3</td><td>Vestrom, Miss. Hulda Amanda Adolfina</td><td>female</td><td>14.0</td><td>0</td><td>0</td><td>350406</td><td>7.8542</td><td>NA</td><td>S</td></tr><tr><th>16</th><td>16</td><td>1</td><td>2</td><td>Hewlett, Mrs. (Mary D Kingcome) </td><td>female</td><td>55.0</td><td>0</td><td>0</td><td>248706</td><td>16.0</td><td>NA</td><td>S</td></tr><tr><th>17</th><td>17</td><td>0</td><td>3</td><td>Rice, Master. Eugene</td><td>male</td><td>2.0</td><td>4</td><td>1</td><td>382652</td><td>29.125</td><td>NA</td><td>Q</td></tr><tr><th>18</th><td>18</td><td>1</td><td>2</td><td>Williams, Mr. Charles Eugene</td><td>male</td><td>NA</td><td>0</td><td>0</td><td>244373</td><td>13.0</td><td>NA</td><td>S</td></tr><tr><th>19</th><td>19</td><td>0</td><td>3</td><td>Vander Planke, Mrs. Julius (Emelia Maria Vandemoortele)</td><td>female</td><td>31.0</td><td>1</td><td>0</td><td>345763</td><td>18.0</td><td>NA</td><td>S</td></tr><tr><th>20</th><td>20</td><td>1</td><td>3</td><td>Masselmani, Mrs. Fatima</td><td>female</td><td>NA</td><td>0</td><td>0</td><td>2649</td><td>7.225</td><td>NA</td><td>C</td></tr><tr><th>21</th><td>21</td><td>0</td><td>2</td><td>Fynney, Mr. Joseph J</td><td>male</td><td>35.0</td><td>0</td><td>0</td><td>239865</td><td>26.0</td><td>NA</td><td>S</td></tr><tr><th>22</th><td>22</td><td>1</td><td>2</td><td>Beesley, Mr. Lawrence</td><td>male</td><td>34.0</td><td>0</td><td>0</td><td>248698</td><td>13.0</td><td>D56</td><td>S</td></tr><tr><th>23</th><td>23</td><td>1</td><td>3</td><td>McGowan, Miss. Anna \"Annie\"</td><td>female</td><td>15.0</td><td>0</td><td>0</td><td>330923</td><td>8.0292</td><td>NA</td><td>Q</td></tr><tr><th>24</th><td>24</td><td>1</td><td>1</td><td>Sloper, Mr. William Thompson</td><td>male</td><td>28.0</td><td>0</td><td>0</td><td>113788</td><td>35.5</td><td>A6</td><td>S</td></tr><tr><th>25</th><td>25</td><td>0</td><td>3</td><td>Palsson, Miss. Torborg Danira</td><td>female</td><td>8.0</td><td>3</td><td>1</td><td>349909</td><td>21.075</td><td>NA</td><td>S</td></tr><tr><th>26</th><td>26</td><td>1</td><td>3</td><td>Asplund, Mrs. Carl Oscar (Selma Augusta Emilia Johansson)</td><td>female</td><td>38.0</td><td>1</td><td>5</td><td>347077</td><td>31.3875</td><td>NA</td><td>S</td></tr><tr><th>27</th><td>27</td><td>0</td><td>3</td><td>Emir, Mr. Farred Chehab</td><td>male</td><td>NA</td><td>0</td><td>0</td><td>2631</td><td>7.225</td><td>NA</td><td>C</td></tr><tr><th>28</th><td>28</td><td>0</td><td>1</td><td>Fortune, Mr. Charles Alexander</td><td>male</td><td>19.0</td><td>3</td><td>2</td><td>19950</td><td>263.0</td><td>C23 C25 C27</td><td>S</td></tr><tr><th>29</th><td>29</td><td>1</td><td>3</td><td>O'Dwyer, Miss. Ellen \"Nellie\"</td><td>female</td><td>NA</td><td>0</td><td>0</td><td>330959</td><td>7.8792</td><td>NA</td><td>Q</td></tr><tr><th>30</th><td>30</td><td>0</td><td>3</td><td>Todoroff, Mr. Lalio</td><td>male</td><td>NA</td><td>0</td><td>0</td><td>349216</td><td>7.8958</td><td>NA</td><td>S</td></tr><tr><th>&vellip;</th><td>&vellip;</td><td>&vellip;</td><td>&vellip;</td><td>&vellip;</td><td>&vellip;</td><td>&vellip;</td><td>&vellip;</td><td>&vellip;</td><td>&vellip;</td><td>&vellip;</td><td>&vellip;</td><td>&vellip;</td></tr></tbody></table>"
      ],
      "text/plain": [
       "891×12 DataFrames.DataFrame\n",
       "│ Row │ PassengerId │ Survived │ Pclass │\n",
       "├─────┼─────────────┼──────────┼────────┤\n",
       "│ 1   │ 1           │ 0        │ 3      │\n",
       "│ 2   │ 2           │ 1        │ 1      │\n",
       "│ 3   │ 3           │ 1        │ 3      │\n",
       "│ 4   │ 4           │ 1        │ 1      │\n",
       "│ 5   │ 5           │ 0        │ 3      │\n",
       "│ 6   │ 6           │ 0        │ 3      │\n",
       "│ 7   │ 7           │ 0        │ 1      │\n",
       "│ 8   │ 8           │ 0        │ 3      │\n",
       "│ 9   │ 9           │ 1        │ 3      │\n",
       "│ 10  │ 10          │ 1        │ 2      │\n",
       "│ 11  │ 11          │ 1        │ 3      │\n",
       "⋮\n",
       "│ 880 │ 880         │ 1        │ 1      │\n",
       "│ 881 │ 881         │ 1        │ 2      │\n",
       "│ 882 │ 882         │ 0        │ 3      │\n",
       "│ 883 │ 883         │ 0        │ 3      │\n",
       "│ 884 │ 884         │ 0        │ 2      │\n",
       "│ 885 │ 885         │ 0        │ 3      │\n",
       "│ 886 │ 886         │ 0        │ 3      │\n",
       "│ 887 │ 887         │ 0        │ 2      │\n",
       "│ 888 │ 888         │ 1        │ 1      │\n",
       "│ 889 │ 889         │ 0        │ 3      │\n",
       "│ 890 │ 890         │ 1        │ 1      │\n",
       "│ 891 │ 891         │ 0        │ 3      │\n",
       "\n",
       "│ Row │ Name                                                  │ Sex      │\n",
       "├─────┼───────────────────────────────────────────────────────┼──────────┤\n",
       "│ 1   │ \"Braund, Mr. Owen Harris\"                             │ \"male\"   │\n",
       "│ 2   │ \"Cumings, Mrs. John Bradley (Florence Briggs Thayer)\" │ \"female\" │\n",
       "│ 3   │ \"Heikkinen, Miss. Laina\"                              │ \"female\" │\n",
       "│ 4   │ \"Futrelle, Mrs. Jacques Heath (Lily May Peel)\"        │ \"female\" │\n",
       "│ 5   │ \"Allen, Mr. William Henry\"                            │ \"male\"   │\n",
       "│ 6   │ \"Moran, Mr. James\"                                    │ \"male\"   │\n",
       "│ 7   │ \"McCarthy, Mr. Timothy J\"                             │ \"male\"   │\n",
       "│ 8   │ \"Palsson, Master. Gosta Leonard\"                      │ \"male\"   │\n",
       "│ 9   │ \"Johnson, Mrs. Oscar W (Elisabeth Vilhelmina Berg)\"   │ \"female\" │\n",
       "│ 10  │ \"Nasser, Mrs. Nicholas (Adele Achem)\"                 │ \"female\" │\n",
       "│ 11  │ \"Sandstrom, Miss. Marguerite Rut\"                     │ \"female\" │\n",
       "⋮\n",
       "│ 880 │ \"Potter, Mrs. Thomas Jr (Lily Alexenia Wilson)\"       │ \"female\" │\n",
       "│ 881 │ \"Shelley, Mrs. William (Imanita Parrish Hall)\"        │ \"female\" │\n",
       "│ 882 │ \"Markun, Mr. Johann\"                                  │ \"male\"   │\n",
       "│ 883 │ \"Dahlberg, Miss. Gerda Ulrika\"                        │ \"female\" │\n",
       "│ 884 │ \"Banfield, Mr. Frederick James\"                       │ \"male\"   │\n",
       "│ 885 │ \"Sutehall, Mr. Henry Jr\"                              │ \"male\"   │\n",
       "│ 886 │ \"Rice, Mrs. William (Margaret Norton)\"                │ \"female\" │\n",
       "│ 887 │ \"Montvila, Rev. Juozas\"                               │ \"male\"   │\n",
       "│ 888 │ \"Graham, Miss. Margaret Edith\"                        │ \"female\" │\n",
       "│ 889 │ \"Johnston, Miss. Catherine Helen \\\"Carrie\\\"\"            │ \"female\" │\n",
       "│ 890 │ \"Behr, Mr. Karl Howell\"                               │ \"male\"   │\n",
       "│ 891 │ \"Dooley, Mr. Patrick\"                                 │ \"male\"   │\n",
       "\n",
       "│ Row │ Age  │ SibSp │ Parch │ Ticket             │ Fare    │ Cabin  │\n",
       "├─────┼──────┼───────┼───────┼────────────────────┼─────────┼────────┤\n",
       "│ 1   │ 22.0 │ 1     │ 0     │ \"A/5 21171\"        │ 7.25    │ NA     │\n",
       "│ 2   │ 38.0 │ 1     │ 0     │ \"PC 17599\"         │ 71.2833 │ \"C85\"  │\n",
       "│ 3   │ 26.0 │ 0     │ 0     │ \"STON/O2. 3101282\" │ 7.925   │ NA     │\n",
       "│ 4   │ 35.0 │ 1     │ 0     │ \"113803\"           │ 53.1    │ \"C123\" │\n",
       "│ 5   │ 35.0 │ 0     │ 0     │ \"373450\"           │ 8.05    │ NA     │\n",
       "│ 6   │ NA   │ 0     │ 0     │ \"330877\"           │ 8.4583  │ NA     │\n",
       "│ 7   │ 54.0 │ 0     │ 0     │ \"17463\"            │ 51.8625 │ \"E46\"  │\n",
       "│ 8   │ 2.0  │ 3     │ 1     │ \"349909\"           │ 21.075  │ NA     │\n",
       "│ 9   │ 27.0 │ 0     │ 2     │ \"347742\"           │ 11.1333 │ NA     │\n",
       "│ 10  │ 14.0 │ 1     │ 0     │ \"237736\"           │ 30.0708 │ NA     │\n",
       "│ 11  │ 4.0  │ 1     │ 1     │ \"PP 9549\"          │ 16.7    │ \"G6\"   │\n",
       "⋮\n",
       "│ 880 │ 56.0 │ 0     │ 1     │ \"11767\"            │ 83.1583 │ \"C50\"  │\n",
       "│ 881 │ 25.0 │ 0     │ 1     │ \"230433\"           │ 26.0    │ NA     │\n",
       "│ 882 │ 33.0 │ 0     │ 0     │ \"349257\"           │ 7.8958  │ NA     │\n",
       "│ 883 │ 22.0 │ 0     │ 0     │ \"7552\"             │ 10.5167 │ NA     │\n",
       "│ 884 │ 28.0 │ 0     │ 0     │ \"C.A./SOTON 34068\" │ 10.5    │ NA     │\n",
       "│ 885 │ 25.0 │ 0     │ 0     │ \"SOTON/OQ 392076\"  │ 7.05    │ NA     │\n",
       "│ 886 │ 39.0 │ 0     │ 5     │ \"382652\"           │ 29.125  │ NA     │\n",
       "│ 887 │ 27.0 │ 0     │ 0     │ \"211536\"           │ 13.0    │ NA     │\n",
       "│ 888 │ 19.0 │ 0     │ 0     │ \"112053\"           │ 30.0    │ \"B42\"  │\n",
       "│ 889 │ NA   │ 1     │ 2     │ \"W./C. 6607\"       │ 23.45   │ NA     │\n",
       "│ 890 │ 26.0 │ 0     │ 0     │ \"111369\"           │ 30.0    │ \"C148\" │\n",
       "│ 891 │ 32.0 │ 0     │ 0     │ \"370376\"           │ 7.75    │ NA     │\n",
       "\n",
       "│ Row │ Embarked │\n",
       "├─────┼──────────┤\n",
       "│ 1   │ \"S\"      │\n",
       "│ 2   │ \"C\"      │\n",
       "│ 3   │ \"S\"      │\n",
       "│ 4   │ \"S\"      │\n",
       "│ 5   │ \"S\"      │\n",
       "│ 6   │ \"Q\"      │\n",
       "│ 7   │ \"S\"      │\n",
       "│ 8   │ \"S\"      │\n",
       "│ 9   │ \"S\"      │\n",
       "│ 10  │ \"C\"      │\n",
       "│ 11  │ \"S\"      │\n",
       "⋮\n",
       "│ 880 │ \"C\"      │\n",
       "│ 881 │ \"S\"      │\n",
       "│ 882 │ \"S\"      │\n",
       "│ 883 │ \"S\"      │\n",
       "│ 884 │ \"S\"      │\n",
       "│ 885 │ \"S\"      │\n",
       "│ 886 │ \"Q\"      │\n",
       "│ 887 │ \"S\"      │\n",
       "│ 888 │ \"S\"      │\n",
       "│ 889 │ \"S\"      │\n",
       "│ 890 │ \"C\"      │\n",
       "│ 891 │ \"Q\"      │"
      ]
     },
     "execution_count": 4,
     "metadata": {},
     "output_type": "execute_result"
    }
   ],
   "source": [
    "dataframe = readtable(\"train.csv\")"
   ]
  },
  {
   "cell_type": "code",
   "execution_count": null,
   "metadata": {
    "collapsed": true
   },
   "outputs": [],
   "source": []
  }
 ],
 "metadata": {
  "kernelspec": {
   "display_name": "Julia 0.5.0",
   "language": "julia",
   "name": "julia-0.5"
  },
  "language_info": {
   "file_extension": ".jl",
   "mimetype": "application/julia",
   "name": "julia",
   "version": "0.5.0"
  }
 },
 "nbformat": 4,
 "nbformat_minor": 0
}

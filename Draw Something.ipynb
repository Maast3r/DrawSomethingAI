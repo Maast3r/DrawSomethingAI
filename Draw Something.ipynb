{
 "cells": [
  {
   "cell_type": "markdown",
   "metadata": {},
   "source": [
    "# Julia Draw Something"
   ]
  },
  {
   "cell_type": "code",
   "execution_count": 1,
   "metadata": {
    "collapsed": false,
    "scrolled": true
   },
   "outputs": [
    {
     "name": "stderr",
     "output_type": "stream",
     "text": [
      "I tensorflow/stream_executor/dso_loader.cc:125] successfully opened CUDA library libcublas.so.8.0 locally\n",
      "I tensorflow/stream_executor/dso_loader.cc:116] Couldn't open CUDA library libcudnn.so.5. LD_LIBRARY_PATH: /usr/local/cuda/lib64\n",
      "I tensorflow/stream_executor/cuda/cuda_dnn.cc:3459] Unable to load cuDNN DSO\n",
      "I tensorflow/stream_executor/dso_loader.cc:125] successfully opened CUDA library libcufft.so.8.0 locally\n",
      "I tensorflow/stream_executor/dso_loader.cc:125] successfully opened CUDA library libcuda.so.1 locally\n",
      "I tensorflow/stream_executor/dso_loader.cc:125] successfully opened CUDA library libcurand.so.8.0 locally\n",
      "I tensorflow/stream_executor/dso_loader.cc:128] successfully opened CUDA library libcublas.so locally\n",
      "I tensorflow/stream_executor/dso_loader.cc:128] successfully opened CUDA library libcudnn.so locally\n",
      "I tensorflow/stream_executor/dso_loader.cc:128] successfully opened CUDA library libcufft.so locally\n",
      "I tensorflow/stream_executor/dso_loader.cc:128] successfully opened CUDA library libcuda.so.1 locally\n",
      "I tensorflow/stream_executor/dso_loader.cc:128] successfully opened CUDA library libcurand.so locally\n"
     ]
    }
   ],
   "source": [
    "using DataFrames\n",
    "using TensorFlow\n",
    "using Distributions\n",
    "using Images"
   ]
  },
  {
   "cell_type": "code",
   "execution_count": 2,
   "metadata": {
    "collapsed": false
   },
   "outputs": [],
   "source": [
    "data_set_folder = \"/raided/datasets/sketches_png/png/\"\n",
    "list_of_imgs = open(data_set_folder * \"filelist.txt\")\n",
    "img_paths = readlines(list_of_imgs)\n",
    "close(list_of_imgs)"
   ]
  },
  {
   "cell_type": "code",
   "execution_count": 19,
   "metadata": {
    "collapsed": false,
    "scrolled": false
   },
   "outputs": [],
   "source": [
    "train_paths = Array(String, 17500)\n",
    "path_index = 1\n",
    "count = 1\n",
    "for i = 1:17500\n",
    "    train_paths[i] = img_paths[path_index]\n",
    "    path_index += 1\n",
    "    count += 1\n",
    "    if count % 71 == 0\n",
    "        count = 1\n",
    "        path_index += 10\n",
    "    end\n",
    "end\n",
    "\n",
    "test_paths = Array(String, 2500)\n",
    "path_index = 71\n",
    "count = 1\n",
    "for i = 1:2500\n",
    "    test_paths[i] = img_paths[path_index]\n",
    "    path_index += 1\n",
    "    count += 1\n",
    "    if count % 11 == 0\n",
    "        path_index += 70\n",
    "        count = 1\n",
    "    end\n",
    "end"
   ]
  },
  {
   "cell_type": "code",
   "execution_count": 20,
   "metadata": {
    "collapsed": false
   },
   "outputs": [
    {
     "data": {
      "text/plain": [
       "250-element Array{String,1}:\n",
       " \"airplane\"     \n",
       " \"alarm clock\"  \n",
       " \"angel\"        \n",
       " \"ant\"          \n",
       " \"apple\"        \n",
       " \"arm\"          \n",
       " \"armchair\"     \n",
       " \"ashtray\"      \n",
       " \"axe\"          \n",
       " \"backpack\"     \n",
       " \"banana\"       \n",
       " \"barn\"         \n",
       " \"baseball bat\" \n",
       " ⋮              \n",
       " \"umbrella\"     \n",
       " \"van\"          \n",
       " \"vase\"         \n",
       " \"violin\"       \n",
       " \"walkie talkie\"\n",
       " \"wheel\"        \n",
       " \"wheelbarrow\"  \n",
       " \"windmill\"     \n",
       " \"wine-bottle\"  \n",
       " \"wineglass\"    \n",
       " \"wrist-watch\"  \n",
       " \"zebra\"        "
      ]
     },
     "execution_count": 20,
     "metadata": {},
     "output_type": "execute_result"
    }
   ],
   "source": [
    "files_in_folder = readdir(data_set_folder)\n",
    "labels = filter(x->isdir(data_set_folder * x) == true, files_in_folder)"
   ]
  },
  {
   "cell_type": "code",
   "execution_count": 21,
   "metadata": {
    "collapsed": false
   },
   "outputs": [
    {
     "ename": "LoadError",
     "evalue": "Tensorflow error: Status: Duplicate node name in graph: 'weights'\n",
     "output_type": "error",
     "traceback": [
      "Tensorflow error: Status: Duplicate node name in graph: 'weights'\n",
      "",
      " in check_status(::TensorFlow.Status) at /home/maaster/.julia/v0.5/TensorFlow/src/core.jl:101",
      " in TensorFlow.Operation(::TensorFlow.NodeDescription) at /home/maaster/.julia/v0.5/TensorFlow/src/core.jl:488",
      " in #Variable#35(::String, ::Bool, ::Bool, ::Type{T}, ::Array{Float32,2}) at /home/maaster/.julia/v0.5/TensorFlow/src/variable.jl:37",
      " in (::Core.#kw#Type)(::Array{Any,1}, ::Type{TensorFlow.Variable}, ::Array{Float32,2}) at ./<missing>:0",
      " in #get_variable#64(::Bool, ::Array{Any,1}, ::Function, ::String, ::Array{Int64,1}, ::Type{T}) at /home/maaster/.julia/v0.5/TensorFlow/src/variable.jl:247",
      " in get_variable(::String, ::Array{Int64,1}, ::Type{T}) at /home/maaster/.julia/v0.5/TensorFlow/src/variable.jl:220"
     ]
    }
   ],
   "source": [
    "x = TensorFlow.placeholder(Float32)\n",
    "y_ = TensorFlow.placeholder(Float32)\n",
    "W = get_variable(\"weights\", [77841, 250], Float32)\n",
    "b = get_variable(\"bias\", [250], Float32)"
   ]
  },
  {
   "cell_type": "code",
   "execution_count": 22,
   "metadata": {
    "collapsed": false
   },
   "outputs": [
    {
     "data": {
      "text/plain": [
       "<Tensor NoOp_3:1 shape=unknown dtype=?>"
      ]
     },
     "execution_count": 22,
     "metadata": {},
     "output_type": "execute_result"
    }
   ],
   "source": [
    "y = nn.softmax(x*W + b)\n",
    "cross_entropy = reduce_mean(-reduce_sum(y_ .* log(y), reduction_indices=[2]))\n",
    "train_step = train.minimize(train.GradientDescentOptimizer(.00001), cross_entropy)"
   ]
  },
  {
   "cell_type": "code",
   "execution_count": 23,
   "metadata": {
    "collapsed": false
   },
   "outputs": [
    {
     "name": "stderr",
     "output_type": "stream",
     "text": [
      "WARNING: Method definition (::Type{Main.DataLoader})(Int64, Array{Int64, 1}) in module Main at In[7]:2 overwritten at In[23]:2.\n",
      "WARNING: Method definition (::Type{Main.DataLoader})(Any, Any) in module Main at In[7]:2 overwritten at In[23]:2.\n",
      "WARNING: Method definition TrainLoader() in module Main at In[7]:6 overwritten at In[23]:6.\n",
      "WARNING: Method definition TestLoader() in module Main at In[7]:7 overwritten at In[23]:7.\n"
     ]
    },
    {
     "data": {
      "text/plain": [
       "TestLoader (generic function with 1 method)"
      ]
     },
     "execution_count": 23,
     "metadata": {},
     "output_type": "execute_result"
    }
   ],
   "source": [
    "type DataLoader\n",
    "    cur_id::Int\n",
    "    order::Vector{Int}\n",
    "end\n",
    "\n",
    "TrainLoader() = DataLoader(1, shuffle(1:17500))\n",
    "TestLoader() = DataLoader(1, shuffle(1:2500))"
   ]
  },
  {
   "cell_type": "code",
   "execution_count": 24,
   "metadata": {
    "collapsed": false
   },
   "outputs": [
    {
     "name": "stderr",
     "output_type": "stream",
     "text": [
      "WARNING: Method definition next_batch(Main.DataLoader, Any) in module Main at In[8]:2 overwritten at In[24]:2.\n"
     ]
    },
    {
     "data": {
      "text/plain": [
       "next_batch (generic function with 1 method)"
      ]
     },
     "execution_count": 24,
     "metadata": {},
     "output_type": "execute_result"
    }
   ],
   "source": [
    "function next_batch(loader::DataLoader, batch_size)\n",
    "    x = zeros(Float32, batch_size, 77841)\n",
    "    y = zeros(Float32, batch_size, 250)\n",
    "    for i = 1:batch_size\n",
    "        path = train_paths[loader.order[loader.cur_id]][1:end-1]\n",
    "#         println(path)\n",
    "        sketch_name = split(path, \"/\")[1]\n",
    "        img = load(data_set_folder * path)\n",
    "        img = restrict(restrict(img))\n",
    "        flatten_img = reshape(img, 77841)\n",
    "        \n",
    "        x[i, :] = flatten_img\n",
    "        label = find((x -> x == sketch_name), labels)[1]\n",
    "        y[i, label] = 1.0\n",
    "        loader.cur_id += 1\n",
    "        if loader.cur_id > 17500\n",
    "            break\n",
    "        end\n",
    "    end\n",
    "    x, y\n",
    "end"
   ]
  },
  {
   "cell_type": "code",
   "execution_count": 25,
   "metadata": {
    "collapsed": false
   },
   "outputs": [
    {
     "name": "stderr",
     "output_type": "stream",
     "text": [
      "WARNING: Method definition get_test(Main.DataLoader) in module Main at In[9]:2 overwritten at In[25]:2.\n"
     ]
    },
    {
     "data": {
      "text/plain": [
       "get_test (generic function with 1 method)"
      ]
     },
     "execution_count": 25,
     "metadata": {},
     "output_type": "execute_result"
    }
   ],
   "source": [
    "function get_test(loader::DataLoader)\n",
    "    x = zeros(Float32, 2500, 77841)\n",
    "    y = zeros(Float32, 2500, 250)\n",
    "    for i = 1:2500\n",
    "        path = test_paths[loader.order[loader.cur_id]][1:end-1]\n",
    "        sketch_name = split(path, \"/\")[1]\n",
    "        img = load(data_set_folder * path)\n",
    "        img = restrict(restrict(img))\n",
    "        flatten_img = reshape(img, 77841)\n",
    "        \n",
    "        x[i, :] = flatten_img\n",
    "        label = find((x -> x == sketch_name), labels)[1]\n",
    "        y[i, label] = 1.0\n",
    "        loader.cur_id += 1\n",
    "        if loader.cur_id > 2500\n",
    "            println(\"========================\")\n",
    "            println(sketch_name)\n",
    "            break\n",
    "        end\n",
    "    end\n",
    "    x, y\n",
    "end"
   ]
  },
  {
   "cell_type": "code",
   "execution_count": 26,
   "metadata": {
    "collapsed": false
   },
   "outputs": [
    {
     "name": "stdout",
     "output_type": "stream",
     "text": [
      "DONE BATCH 1\n",
      "DONE BATCH "
     ]
    },
    {
     "name": "stderr",
     "output_type": "stream",
     "text": [
      "I tensorflow/core/common_runtime/gpu/gpu_device.cc:975] Creating TensorFlow device (/gpu:0) -> (device: 0, name: GeForce GTX 1070, pci bus id: 0000:01:00.0)\n"
     ]
    },
    {
     "name": "stdout",
     "output_type": "stream",
     "text": [
      "2\n",
      "DONE BATCH 3\n",
      "DONE BATCH 4\n",
      "DONE BATCH 5\n",
      "DONE BATCH 6\n",
      "DONE BATCH 7\n",
      "DONE BATCH 8\n"
     ]
    },
    {
     "name": "stderr",
     "output_type": "stream",
     "text": [
      "Error encountered while loading \"/raided/datasets/sketches_png/png/lightbulb/9709.png\".\n",
      "Fatal error:\n"
     ]
    },
    {
     "ename": "LoadError",
     "evalue": "InterruptException:",
     "output_type": "error",
     "traceback": [
      "InterruptException:",
      ""
     ]
    }
   ],
   "source": [
    "loader = TrainLoader()\n",
    "sess = Session()\n",
    "run(sess, initialize_all_variables())\n",
    "for i in 1:875\n",
    "    batch = next_batch(loader, 20)\n",
    "    run(sess, train_step, Dict(x=>batch[1], y_=>batch[2]))\n",
    "    println(\"DONE BATCH \", i)\n",
    "end"
   ]
  },
  {
   "cell_type": "code",
   "execution_count": null,
   "metadata": {
    "collapsed": false
   },
   "outputs": [],
   "source": [
    "correct_prediction = indmax(y, 2) .== indmax(y_, 2)\n",
    "accuracy=reduce_mean(cast(correct_prediction, Float64))\n",
    "test_loader = TestLoader()\n",
    "testx, testy = get_test(test_loader)\n",
    "\n",
    "println(run(sess, indmax(y, 2), Dict(x=>testx, y_=>testy)))\n",
    "println(run(sess, indmax(y_, 2), Dict(x=>testx, y_=>testy)))\n",
    "println(run(sess, accuracy, Dict(x=>testx, y_=>testy)))"
   ]
  },
  {
   "cell_type": "code",
   "execution_count": 12,
   "metadata": {
    "collapsed": false
   },
   "outputs": [
    {
     "data": {
      "text/plain": [
       "sketch_input (generic function with 1 method)"
      ]
     },
     "execution_count": 12,
     "metadata": {},
     "output_type": "execute_result"
    }
   ],
   "source": [
    "function sketch_input(path, sketch_name)\n",
    "    x = zeros(Float32, 1, 77841)\n",
    "    y = zeros(Float32, 1, 250)\n",
    "    img = load(path)\n",
    "    img = restrict(restrict(img))\n",
    "    flatten_img = reshape(img, 77841)\n",
    "    x[1, :] = flatten_img\n",
    "    \n",
    "    label = find((x -> x == sketch_name), labels)[1]\n",
    "    y[1, label] = 1.0\n",
    "    \n",
    "    x, y\n",
    "end"
   ]
  },
  {
   "cell_type": "code",
   "execution_count": 13,
   "metadata": {
    "collapsed": false
   },
   "outputs": [
    {
     "name": "stdout",
     "output_type": "stream",
     "text": [
      "Is it an foot? Answer: false.\n"
     ]
    }
   ],
   "source": [
    "sketch_path = \"/raided/datasets/sketches_png/png/axe/711.png\"\n",
    "sketch_label = \"axe\"\n",
    "\n",
    "test_img, test_label = sketch_input(sketch_path, sketch_label)\n",
    "what_it_thinks = labels[run(sess, indmax(y,2), Dict(x=>test_img, y_=>test_label))[1] + 1]\n",
    "println(\"Is it an \" * what_it_thinks * \"? Answer: \", (sketch_label == what_it_thinks), \".\")"
   ]
  }
 ],
 "metadata": {
  "anaconda-cloud": {},
  "kernelspec": {
   "display_name": "Julia 0.5.0",
   "language": "julia",
   "name": "julia-0.5"
  },
  "language_info": {
   "file_extension": ".jl",
   "mimetype": "application/julia",
   "name": "julia",
   "version": "0.5.0"
  }
 },
 "nbformat": 4,
 "nbformat_minor": 0
}

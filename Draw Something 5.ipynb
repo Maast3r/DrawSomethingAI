{
 "cells": [
  {
   "cell_type": "markdown",
   "metadata": {},
   "source": [
    "# Julia Draw Something"
   ]
  },
  {
   "cell_type": "code",
   "execution_count": 1,
   "metadata": {
    "collapsed": false
   },
   "outputs": [
    {
     "name": "stderr",
     "output_type": "stream",
     "text": [
      "I tensorflow/stream_executor/dso_loader.cc:125] successfully opened CUDA library libcublas.so.8.0 locally\n",
      "I tensorflow/stream_executor/dso_loader.cc:116] Couldn't open CUDA library libcudnn.so.5. LD_LIBRARY_PATH: /usr/local/cuda/lib64\n",
      "I tensorflow/stream_executor/cuda/cuda_dnn.cc:3459] Unable to load cuDNN DSO\n",
      "I tensorflow/stream_executor/dso_loader.cc:125] successfully opened CUDA library libcufft.so.8.0 locally\n",
      "I tensorflow/stream_executor/dso_loader.cc:125] successfully opened CUDA library libcuda.so.1 locally\n",
      "I tensorflow/stream_executor/dso_loader.cc:125] successfully opened CUDA library libcurand.so.8.0 locally\n",
      "I tensorflow/stream_executor/dso_loader.cc:128] successfully opened CUDA library libcublas.so locally\n",
      "I tensorflow/stream_executor/dso_loader.cc:128] successfully opened CUDA library libcudnn.so locally\n",
      "I tensorflow/stream_executor/dso_loader.cc:128] successfully opened CUDA library libcufft.so locally\n",
      "I tensorflow/stream_executor/dso_loader.cc:128] successfully opened CUDA library libcuda.so.1 locally\n",
      "I tensorflow/stream_executor/dso_loader.cc:128] successfully opened CUDA library libcurand.so locally\n"
     ]
    }
   ],
   "source": [
    "using DataFrames\n",
    "using TensorFlow\n",
    "using Distributions\n",
    "using Images"
   ]
  },
  {
   "cell_type": "code",
   "execution_count": 2,
   "metadata": {
    "collapsed": false
   },
   "outputs": [
    {
     "data": {
      "image/png": "[encoded data removed]",
      "text/plain": [
       "1111×1111 Array{Gray{N0f8},2}:\n",
       " Gray{N0f8}(1.0)  Gray{N0f8}(1.0)  …  Gray{N0f8}(1.0)  Gray{N0f8}(1.0)\n",
       " Gray{N0f8}(1.0)  Gray{N0f8}(1.0)     Gray{N0f8}(1.0)  Gray{N0f8}(1.0)\n",
       " Gray{N0f8}(1.0)  Gray{N0f8}(1.0)     Gray{N0f8}(1.0)  Gray{N0f8}(1.0)\n",
       " Gray{N0f8}(1.0)  Gray{N0f8}(1.0)     Gray{N0f8}(1.0)  Gray{N0f8}(1.0)\n",
       " Gray{N0f8}(1.0)  Gray{N0f8}(1.0)     Gray{N0f8}(1.0)  Gray{N0f8}(1.0)\n",
       " Gray{N0f8}(1.0)  Gray{N0f8}(1.0)  …  Gray{N0f8}(1.0)  Gray{N0f8}(1.0)\n",
       " Gray{N0f8}(1.0)  Gray{N0f8}(1.0)     Gray{N0f8}(1.0)  Gray{N0f8}(1.0)\n",
       " Gray{N0f8}(1.0)  Gray{N0f8}(1.0)     Gray{N0f8}(1.0)  Gray{N0f8}(1.0)\n",
       " Gray{N0f8}(1.0)  Gray{N0f8}(1.0)     Gray{N0f8}(1.0)  Gray{N0f8}(1.0)\n",
       " Gray{N0f8}(1.0)  Gray{N0f8}(1.0)     Gray{N0f8}(1.0)  Gray{N0f8}(1.0)\n",
       " Gray{N0f8}(1.0)  Gray{N0f8}(1.0)  …  Gray{N0f8}(1.0)  Gray{N0f8}(1.0)\n",
       " Gray{N0f8}(1.0)  Gray{N0f8}(1.0)     Gray{N0f8}(1.0)  Gray{N0f8}(1.0)\n",
       " Gray{N0f8}(1.0)  Gray{N0f8}(1.0)     Gray{N0f8}(1.0)  Gray{N0f8}(1.0)\n",
       " ⋮                                 ⋱                   ⋮              \n",
       " Gray{N0f8}(1.0)  Gray{N0f8}(1.0)     Gray{N0f8}(1.0)  Gray{N0f8}(1.0)\n",
       " Gray{N0f8}(1.0)  Gray{N0f8}(1.0)  …  Gray{N0f8}(1.0)  Gray{N0f8}(1.0)\n",
       " Gray{N0f8}(1.0)  Gray{N0f8}(1.0)     Gray{N0f8}(1.0)  Gray{N0f8}(1.0)\n",
       " Gray{N0f8}(1.0)  Gray{N0f8}(1.0)     Gray{N0f8}(1.0)  Gray{N0f8}(1.0)\n",
       " Gray{N0f8}(1.0)  Gray{N0f8}(1.0)     Gray{N0f8}(1.0)  Gray{N0f8}(1.0)\n",
       " Gray{N0f8}(1.0)  Gray{N0f8}(1.0)     Gray{N0f8}(1.0)  Gray{N0f8}(1.0)\n",
       " Gray{N0f8}(1.0)  Gray{N0f8}(1.0)  …  Gray{N0f8}(1.0)  Gray{N0f8}(1.0)\n",
       " Gray{N0f8}(1.0)  Gray{N0f8}(1.0)     Gray{N0f8}(1.0)  Gray{N0f8}(1.0)\n",
       " Gray{N0f8}(1.0)  Gray{N0f8}(1.0)     Gray{N0f8}(1.0)  Gray{N0f8}(1.0)\n",
       " Gray{N0f8}(1.0)  Gray{N0f8}(1.0)     Gray{N0f8}(1.0)  Gray{N0f8}(1.0)\n",
       " Gray{N0f8}(1.0)  Gray{N0f8}(1.0)     Gray{N0f8}(1.0)  Gray{N0f8}(1.0)\n",
       " Gray{N0f8}(1.0)  Gray{N0f8}(1.0)  …  Gray{N0f8}(1.0)  Gray{N0f8}(1.0)"
      ]
     },
     "execution_count": 2,
     "metadata": {},
     "output_type": "execute_result"
    }
   ],
   "source": [
    "img = load(\"/raided/datasets/sketches_png/png/airplane/1.png\")"
   ]
  },
  {
   "cell_type": "code",
   "execution_count": 3,
   "metadata": {
    "collapsed": false
   },
   "outputs": [],
   "source": [
    "data_set_folder = \"/raided/datasets/sketches_png/png/\"\n",
    "list_of_imgs = open(data_set_folder * \"filelist.txt\")\n",
    "img_paths = readlines(list_of_imgs)\n",
    "close(list_of_imgs)"
   ]
  },
  {
   "cell_type": "code",
   "execution_count": 4,
   "metadata": {
    "collapsed": false
   },
   "outputs": [
    {
     "data": {
      "text/plain": [
       "250-element Array{String,1}:\n",
       " \"airplane\"     \n",
       " \"alarm clock\"  \n",
       " \"angel\"        \n",
       " \"ant\"          \n",
       " \"apple\"        \n",
       " \"arm\"          \n",
       " \"armchair\"     \n",
       " \"ashtray\"      \n",
       " \"axe\"          \n",
       " \"backpack\"     \n",
       " \"banana\"       \n",
       " \"barn\"         \n",
       " \"baseball bat\" \n",
       " ⋮              \n",
       " \"umbrella\"     \n",
       " \"van\"          \n",
       " \"vase\"         \n",
       " \"violin\"       \n",
       " \"walkie talkie\"\n",
       " \"wheel\"        \n",
       " \"wheelbarrow\"  \n",
       " \"windmill\"     \n",
       " \"wine-bottle\"  \n",
       " \"wineglass\"    \n",
       " \"wrist-watch\"  \n",
       " \"zebra\"        "
      ]
     },
     "execution_count": 4,
     "metadata": {},
     "output_type": "execute_result"
    }
   ],
   "source": [
    "files_in_folder = readdir(data_set_folder)\n",
    "labels = filter(x->isdir(data_set_folder * x) == true, files_in_folder)"
   ]
  },
  {
   "cell_type": "code",
   "execution_count": 5,
   "metadata": {
    "collapsed": false
   },
   "outputs": [
    {
     "data": {
      "text/plain": [
       "TensorFlow.Variable(<Operation 'bias'>,<Operation 'bias/Assign'>)"
      ]
     },
     "execution_count": 5,
     "metadata": {},
     "output_type": "execute_result"
    }
   ],
   "source": [
    "x = TensorFlow.placeholder(Float32)\n",
    "y_ = TensorFlow.placeholder(Float32)\n",
    "W = get_variable(\"weights\", [77841, 10], Float32)\n",
    "b = get_variable(\"bias\", [10], Float32)"
   ]
  },
  {
   "cell_type": "code",
   "execution_count": 6,
   "metadata": {
    "collapsed": false
   },
   "outputs": [
    {
     "name": "stderr",
     "output_type": "stream",
     "text": [
      "W tensorflow/core/platform/cpu_feature_guard.cc:45] The TensorFlow library wasn't compiled to use SSE4.2 instructions, but these are available on your machine and could speed up CPU computations.\n",
      "W tensorflow/core/platform/cpu_feature_guard.cc:45] The TensorFlow library wasn't compiled to use AVX instructions, but these are available on your machine and could speed up CPU computations.\n",
      "W tensorflow/core/platform/cpu_feature_guard.cc:45] The TensorFlow library wasn't compiled to use AVX2 instructions, but these are available on your machine and could speed up CPU computations.\n",
      "W tensorflow/core/platform/cpu_feature_guard.cc:45] The TensorFlow library wasn't compiled to use FMA instructions, but these are available on your machine and could speed up CPU computations.\n"
     ]
    },
    {
     "data": {
      "text/plain": [
       "<Tensor NoOp:1 shape=unknown dtype=?>"
      ]
     },
     "execution_count": 6,
     "metadata": {},
     "output_type": "execute_result"
    }
   ],
   "source": [
    "y = nn.softmax(x*W + b)\n",
    "cross_entropy = reduce_mean(-reduce_sum(y_ .* log(y), reduction_indices=[2]))\n",
    "train_step = train.minimize(train.GradientDescentOptimizer(.00001), cross_entropy)"
   ]
  },
  {
   "cell_type": "code",
   "execution_count": 7,
   "metadata": {
    "collapsed": false
   },
   "outputs": [
    {
     "data": {
      "text/plain": [
       "TrainLoader (generic function with 1 method)"
      ]
     },
     "execution_count": 7,
     "metadata": {},
     "output_type": "execute_result"
    }
   ],
   "source": [
    "type DataLoader\n",
    "    cur_id::Int\n",
    "    order::Vector{Int}\n",
    "    count::Int\n",
    "end\n",
    "\n",
    "TrainLoader() = DataLoader(1, (1:350), 0)"
   ]
  },
  {
   "cell_type": "code",
   "execution_count": 8,
   "metadata": {
    "collapsed": false
   },
   "outputs": [
    {
     "data": {
      "text/plain": [
       "next_batch (generic function with 1 method)"
      ]
     },
     "execution_count": 8,
     "metadata": {},
     "output_type": "execute_result"
    }
   ],
   "source": [
    "function next_batch(loader::DataLoader, batch_size)\n",
    "    x = zeros(Float32, batch_size, 77841)\n",
    "    y = zeros(Float32, batch_size, 10)\n",
    "    for i = 1:batch_size\n",
    "        path = img_paths[loader.cur_id][1:end-1]\n",
    "        sketch_name = split(path, \"/\")[1]\n",
    "        img = load(data_set_folder * path)\n",
    "        img = restrict(restrict(img))\n",
    "        flatten_img = reshape(img, 77841)\n",
    "        \n",
    "        x[i, :] = flatten_img\n",
    "        label = find((x -> x == sketch_name), labels)[1]\n",
    "        y[i, label] = 1.0\n",
    "        loader.cur_id += 1\n",
    "        loader.count += 1\n",
    "        if loader.cur_id > 400\n",
    "            loader.cur_id = 1\n",
    "            break\n",
    "        elseif loader.count % 70 == 0\n",
    "            loader.cur_id += 10\n",
    "            loader.count = 0\n",
    "        end\n",
    "    end\n",
    "    x, y\n",
    "end"
   ]
  },
  {
   "cell_type": "code",
   "execution_count": 9,
   "metadata": {
    "collapsed": false
   },
   "outputs": [
    {
     "data": {
      "text/plain": [
       "get_test (generic function with 1 method)"
      ]
     },
     "execution_count": 9,
     "metadata": {},
     "output_type": "execute_result"
    }
   ],
   "source": [
    "TestLoader() = DataLoader(71, (1:50), 0)\n",
    "\n",
    "function get_test(loader::DataLoader)\n",
    "    x = zeros(Float32, 50, 77841)\n",
    "    y = zeros(Float32, 50, 10)\n",
    "    for i = 1:50\n",
    "        path = img_paths[loader.cur_id][1:end-1]\n",
    "        sketch_name = split(path, \"/\")[1]\n",
    "        img = load(data_set_folder * path)\n",
    "        img = restrict(restrict(img))\n",
    "        flatten_img = reshape(img, 77841)\n",
    "        \n",
    "        x[i, :] = flatten_img\n",
    "        label = find((x -> x == sketch_name), labels)[1]\n",
    "        y[i, label] = 1.0\n",
    "        loader.cur_id += 1\n",
    "        loader.count += 1\n",
    "        if loader.cur_id > 400\n",
    "            loader.cur_id = 1\n",
    "            break\n",
    "        elseif loader.count % 10 == 0\n",
    "            println(\"========================\")\n",
    "            println(sketch_name)\n",
    "            loader.cur_id += 70\n",
    "            loader.count = 0\n",
    "            if loader.cur_id > 400\n",
    "                break\n",
    "                \n",
    "            end\n",
    "        end\n",
    "    end\n",
    "    x, y\n",
    "end"
   ]
  },
  {
   "cell_type": "code",
   "execution_count": 10,
   "metadata": {
    "collapsed": false
   },
   "outputs": [
    {
     "name": "stdout",
     "output_type": "stream",
     "text": [
      "DONE BATCH 1\n",
      "DONE BATCH "
     ]
    },
    {
     "name": "stderr",
     "output_type": "stream",
     "text": [
      "I tensorflow/stream_executor/cuda/cuda_gpu_executor.cc:910] successful NUMA node read from SysFS had negative value (-1), but there must be at least one NUMA node, so returning NUMA node zero\n",
      "I tensorflow/core/common_runtime/gpu/gpu_device.cc:885] Found device 0 with properties: \n",
      "name: GeForce GTX 1070\n",
      "major: 6 minor: 1 memoryClockRate (GHz) 1.683\n",
      "pciBusID 0000:01:00.0\n",
      "Total memory: 7.92GiB\n",
      "Free memory: 7.40GiB\n",
      "I tensorflow/core/common_runtime/gpu/gpu_device.cc:906] DMA: 0 \n",
      "I tensorflow/core/common_runtime/gpu/gpu_device.cc:916] 0:   Y \n",
      "I tensorflow/core/common_runtime/gpu/gpu_device.cc:975] Creating TensorFlow device (/gpu:0) -> (device: 0, name: GeForce GTX 1070, pci bus id: 0000:01:00.0)\n"
     ]
    },
    {
     "name": "stdout",
     "output_type": "stream",
     "text": [
      "2\n",
      "DONE BATCH 3\n",
      "DONE BATCH 4\n",
      "DONE BATCH 5\n",
      "DONE BATCH 6\n",
      "DONE BATCH 7\n",
      "DONE BATCH 8\n",
      "DONE BATCH 9\n",
      "DONE BATCH 10\n",
      "DONE BATCH 11\n",
      "DONE BATCH 12\n",
      "DONE BATCH 13\n",
      "DONE BATCH 14\n",
      "DONE BATCH 15\n",
      "DONE BATCH 16\n",
      "DONE BATCH 17\n",
      "DONE BATCH 18\n",
      "DONE BATCH 19\n",
      "DONE BATCH 20\n",
      "DONE BATCH 21\n",
      "DONE BATCH 22\n",
      "DONE BATCH 23\n",
      "DONE BATCH 24\n",
      "DONE BATCH 25\n",
      "DONE BATCH 26\n",
      "DONE BATCH 27\n",
      "DONE BATCH 28\n",
      "DONE BATCH 29\n",
      "DONE BATCH 30\n",
      "DONE BATCH 31\n",
      "DONE BATCH 32\n",
      "DONE BATCH 33\n",
      "DONE BATCH 34\n"
     ]
    }
   ],
   "source": [
    "loader = TrainLoader()\n",
    "sess = Session()\n",
    "run(sess, initialize_all_variables())\n",
    "for i in 1:35\n",
    "    batch = next_batch(loader, 10)\n",
    "    run(sess, train_step, Dict(x=>batch[1], y_=>batch[2]))\n",
    "    println(\"DONE BATCH \", i)\n",
    "end"
   ]
  },
  {
   "cell_type": "code",
   "execution_count": 11,
   "metadata": {
    "collapsed": false
   },
   "outputs": [
    {
     "name": "stdout",
     "output_type": "stream",
     "text": [
      "--------------------\n",
      "airplane\n",
      "71\n",
      "--------------------\n",
      "airplane\n",
      "72\n",
      "--------------------\n",
      "airplane\n",
      "73\n",
      "--------------------\n",
      "airplane\n",
      "74\n",
      "--------------------\n",
      "airplane\n",
      "75\n",
      "--------------------\n",
      "airplane\n",
      "76\n",
      "--------------------\n",
      "airplane\n",
      "77\n",
      "--------------------\n",
      "airplane\n",
      "78\n",
      "--------------------\n",
      "airplane\n",
      "79\n",
      "--------------------\n",
      "airplane\n",
      "80\n",
      "========================\n",
      "--------------------\n",
      "alarm clock\n",
      "151\n",
      "--------------------\n",
      "alarm clock\n",
      "152\n",
      "--------------------\n",
      "alarm clock\n",
      "153\n",
      "--------------------\n",
      "alarm clock\n",
      "154\n",
      "--------------------\n",
      "alarm clock\n",
      "155\n",
      "--------------------\n",
      "alarm clock\n",
      "156\n",
      "--------------------\n",
      "alarm clock\n",
      "157\n",
      "--------------------\n",
      "alarm clock\n",
      "158\n",
      "--------------------\n",
      "alarm clock\n",
      "159\n",
      "--------------------\n",
      "alarm clock\n",
      "160\n",
      "========================\n",
      "--------------------\n",
      "angel\n",
      "231\n",
      "--------------------\n",
      "angel\n",
      "232\n",
      "--------------------\n",
      "angel\n",
      "233\n",
      "--------------------\n",
      "angel\n",
      "234\n",
      "--------------------\n",
      "angel\n",
      "235\n",
      "--------------------\n",
      "angel\n",
      "236\n",
      "--------------------\n",
      "angel\n",
      "237\n",
      "--------------------\n",
      "angel\n",
      "238\n",
      "--------------------\n",
      "angel\n",
      "239\n",
      "--------------------\n",
      "angel\n",
      "240\n",
      "========================\n",
      "--------------------\n",
      "ant\n",
      "311\n",
      "--------------------\n",
      "ant\n",
      "312\n",
      "--------------------\n",
      "ant\n",
      "313\n",
      "--------------------\n",
      "ant\n",
      "314\n",
      "--------------------\n",
      "ant\n",
      "315\n",
      "--------------------\n",
      "ant\n",
      "316\n",
      "--------------------\n",
      "ant\n",
      "317\n",
      "--------------------\n",
      "ant\n",
      "318\n",
      "--------------------\n",
      "ant\n",
      "319\n",
      "--------------------\n",
      "ant\n",
      "320\n",
      "========================\n",
      "--------------------\n",
      "apple\n",
      "391\n",
      "--------------------\n",
      "apple\n",
      "392\n",
      "--------------------\n",
      "apple\n",
      "393\n",
      "--------------------\n",
      "apple\n",
      "394\n",
      "--------------------\n",
      "apple\n",
      "395\n",
      "--------------------\n",
      "apple\n",
      "396\n",
      "--------------------\n",
      "apple\n",
      "397\n",
      "--------------------\n",
      "apple\n",
      "398\n",
      "--------------------\n",
      "apple\n",
      "399\n",
      "--------------------\n",
      "apple\n",
      "400\n",
      "0.2\n"
     ]
    }
   ],
   "source": [
    "correct_prediction = indmax(y, 2) .== indmax(y_, 2)\n",
    "accuracy=reduce_mean(cast(correct_prediction, Float64))\n",
    "test_loader = TestLoader()\n",
    "testx, testy = get_test(test_loader)\n",
    "\n",
    "println(run(sess, accuracy, Dict(x=>testx, y_=>testy)))"
   ]
  },
  {
   "cell_type": "code",
   "execution_count": null,
   "metadata": {
    "collapsed": true
   },
   "outputs": [],
   "source": []
  }
 ],
 "metadata": {
  "anaconda-cloud": {},
  "kernelspec": {
   "display_name": "Julia 0.5.0",
   "language": "julia",
   "name": "julia-0.5"
  },
  "language_info": {
   "file_extension": ".jl",
   "mimetype": "application/julia",
   "name": "julia",
   "version": "0.5.0"
  }
 },
 "nbformat": 4,
 "nbformat_minor": 0
}

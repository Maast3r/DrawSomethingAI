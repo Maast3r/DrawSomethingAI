{
 "cells": [
  {
   "cell_type": "markdown",
   "metadata": {},
   "source": [
    "# Julia Lesson\n",
    "By Andrew Ma and Luke Miller\n",
    "\n",
    "### What is Julia?\n",
    "Julia is a high-level, high-performance dynamic programming language that looks like Ruby/Python syntax meets MatLab. It is meant to bridge the gap for mathematics and programming while also being very efficient at crunching numbers. Most of Julia's base library is written in Julia (woo metaprogramming)."
   ]
  },
  {
   "cell_type": "code",
   "execution_count": 1,
   "metadata": {
    "collapsed": false
   },
   "outputs": [
    {
     "name": "stdout",
     "output_type": "stream",
     "text": [
      "10\n",
      "11\n",
      "11\n",
      "1.0e-5\n",
      "Hello\n"
     ]
    }
   ],
   "source": [
    "# variable\n",
    "x = 10\n",
    "println(x)\n",
    "\n",
    "# super hard math\n",
    "y = x + 1\n",
    "println(y)\n",
    "\n",
    "# reassigning a variable\n",
    "x = x + 1\n",
    "println(x)\n",
    "\n",
    "# unicode names\n",
    "δ = 0.00001\n",
    "println(δ)\n",
    "\n",
    "안녕하세요 = \"Hello\"\n",
    "println(안녕하세요)"
   ]
  },
  {
   "cell_type": "markdown",
   "metadata": {},
   "source": [
    "Stylistic Conventions:\n",
    "- Names of variables are in lower case.\n",
    "- Word separation can be indicated by underscores ('_'), but use of underscores is discouraged unless the name would be hard to read otherwise.\n",
    "- Names of Types and Modules begin with a capital letter and word separation is shown with upper camel case instead of underscores.\n",
    "- Names of functions and macros are in lower case, without underscores.\n",
    "- Functions that write to their arguments have names that end in !. These are sometimes called “mutating” or “in-place” functions because they are intended to produce changes in their arguments after the function is called, not just return a value."
   ]
  },
  {
   "cell_type": "markdown",
   "metadata": {},
   "source": [
    "[Numeric Types](http://docs.julialang.org/en/stable/manual/integers-and-floating-point-numbers/)"
   ]
  },
  {
   "cell_type": "code",
   "execution_count": 2,
   "metadata": {
    "collapsed": false
   },
   "outputs": [
    {
     "name": "stdout",
     "output_type": "stream",
     "text": [
      "9223372036854775807\n",
      "-9223372036854775808\n"
     ]
    }
   ],
   "source": [
    "# Overflow example\n",
    "x = typemax(Int64)\n",
    "println(x)\n",
    "println(x+1)"
   ]
  },
  {
   "cell_type": "code",
   "execution_count": 3,
   "metadata": {
    "collapsed": false,
    "scrolled": true
   },
   "outputs": [
    {
     "name": "stdout",
     "output_type": "stream",
     "text": [
      "10\n",
      "13.0\n",
      "64\n"
     ]
    }
   ],
   "source": [
    "# Coefficients\n",
    "x = 3\n",
    "println(2x^2 - 3x + 1)\n",
    "println(1.5x^2 - .5x + 1)\n",
    "println(2^2x)"
   ]
  },
  {
   "cell_type": "code",
   "execution_count": 4,
   "metadata": {
    "collapsed": false
   },
   "outputs": [
    {
     "name": "stdout",
     "output_type": "stream",
     "text": [
      "0.0\n",
      "1\n"
     ]
    }
   ],
   "source": [
    "# Zero and One operators\n",
    "\n",
    "println(zero(1.0))\n",
    "println(one(0))"
   ]
  },
  {
   "cell_type": "markdown",
   "metadata": {},
   "source": [
    "[Mathematical Operations](http://docs.julialang.org/en/stable/manual/mathematical-operations/)"
   ]
  },
  {
   "cell_type": "code",
   "execution_count": 5,
   "metadata": {
    "collapsed": false
   },
   "outputs": [
    {
     "name": "stdout",
     "output_type": "stream",
     "text": [
      "a\n",
      "I'm a string\n"
     ]
    }
   ],
   "source": [
    "# Char\n",
    "a = 'a'\n",
    "println(a)\n",
    "\n",
    "# String\n",
    "string = \"I'm a string\"\n",
    "println(string)"
   ]
  },
  {
   "cell_type": "code",
   "execution_count": 6,
   "metadata": {
    "collapsed": false
   },
   "outputs": [
    {
     "name": "stdout",
     "output_type": "stream",
     "text": [
      "3\n",
      "(3,-1)\n",
      "3\n",
      "3\n",
      "3\n"
     ]
    }
   ],
   "source": [
    "# Functions\n",
    "function e(x,y)\n",
    "    x+y\n",
    "end\n",
    "\n",
    "function e2(x,y)\n",
    "    x+y, x-y\n",
    "end\n",
    "\n",
    "f(x,y) = x + y\n",
    "g = f \n",
    "\n",
    "∑(x,y) = x + y\n",
    "\n",
    "println(e(1,2))\n",
    "println(e2(1,2))\n",
    "println(f(1,2))\n",
    "println(g(1,2))\n",
    "println(∑(1,2))"
   ]
  },
  {
   "cell_type": "code",
   "execution_count": 7,
   "metadata": {
    "collapsed": false
   },
   "outputs": [
    {
     "name": "stdout",
     "output_type": "stream",
     "text": [
      "6\n",
      "6\n",
      "[2,14,-2]\n",
      "(1,2,(3,4,5,6))\n",
      "3\n",
      "6\n"
     ]
    }
   ],
   "source": [
    "# Functions continued\n",
    "println(+(1, 2, 3))\n",
    "h = +\n",
    "println(h(1,2,3))\n",
    "\n",
    "println(map(x -> x^2 + 2x - 1, [1,3,-1]))\n",
    "\n",
    "bar(a,b,x...) = (a,b,x)\n",
    "println(bar(1,2,3,4,5,6))\n",
    "\n",
    "function optionalArg(x,y,z=0)\n",
    "    x+y+z\n",
    "end\n",
    "\n",
    "println(optionalArg(1,2))\n",
    "println(optionalArg(1,2,3))"
   ]
  },
  {
   "cell_type": "code",
   "execution_count": 8,
   "metadata": {
    "collapsed": false
   },
   "outputs": [
    {
     "data": {
      "text/plain": [
       "B"
      ]
     },
     "execution_count": 8,
     "metadata": {},
     "output_type": "execute_result"
    }
   ],
   "source": [
    "# Scope\n",
    "module A\n",
    "a = 1 # a global in A's scope\n",
    "end\n",
    "\n",
    "module B\n",
    "# b = a # would error as B's global scope is separate from A's\n",
    "    module C\n",
    "    c = 2\n",
    "    end\n",
    "b = C.c # can access the namespace of a nested global scope\n",
    "        # through a qualified access\n",
    "import A # makes module A available\n",
    "d = A.a\n",
    "# A.a = 2 # would error with: \"ERROR: cannot assign variables in other modules\"\n",
    "end"
   ]
  },
  {
   "cell_type": "code",
   "execution_count": 9,
   "metadata": {
    "collapsed": false
   },
   "outputs": [
    {
     "name": "stdout",
     "output_type": "stream",
     "text": [
      "0\n"
     ]
    }
   ],
   "source": [
    "# Method\n",
    "k(x::Number, y::Number) = 2x - y;\n",
    "println(k(1,2))"
   ]
  },
  {
   "cell_type": "code",
   "execution_count": 10,
   "metadata": {
    "collapsed": false
   },
   "outputs": [
    {
     "name": "stdout",
     "output_type": "stream",
     "text": [
      "Int64\n",
      "12\n",
      "Array{Any,2}\n",
      "Any[1 2 3; 4 5 6]\n",
      "true\n",
      "false\n"
     ]
    }
   ],
   "source": [
    "# Things with types and arrays\n",
    "\n",
    "num = 12\n",
    "println(typeof(num))\n",
    "println(convert(UInt8, num))\n",
    "\n",
    "numArray = Any[1 2 3; 4 5 6]\n",
    "println(typeof(numArray))\n",
    "println(numArray)\n",
    "convert(Array{Float64}, numArray)\n",
    "\n",
    "# Define your own conversion\n",
    "import Base.convert\n",
    "convert(::Type{Bool}, x::Real) = x==0 ? false : x==1 ? true : throw(InexactError())\n",
    "println(convert(Bool, 1))\n",
    "println(convert(Bool, 0))"
   ]
  },
  {
   "cell_type": "markdown",
   "metadata": {},
   "source": [
    "## Type System and Polymorphism\n",
    "\n",
    "\n",
    "Dynamic, with some of the advantages of static typings!\n",
    "You can add type annotations that tell the compiler what concrete type a"
   ]
  },
  {
   "cell_type": "code",
   "execution_count": 32,
   "metadata": {
    "collapsed": false
   },
   "outputs": [
    {
     "data": {
      "text/plain": [
       "3"
      ]
     },
     "execution_count": 32,
     "metadata": {},
     "output_type": "execute_result"
    }
   ],
   "source": [
    "1+2"
   ]
  },
  {
   "cell_type": "code",
   "execution_count": 11,
   "metadata": {
    "collapsed": false
   },
   "outputs": [
    {
     "ename": "LoadError",
     "evalue": "TypeError: typeassert: expected AbstractFloat, got Int64",
     "output_type": "error",
     "traceback": [
      "TypeError: typeassert: expected AbstractFloat, got Int64",
      ""
     ]
    }
   ],
   "source": [
    "(1+2)::AbstractFloat"
   ]
  },
  {
   "cell_type": "code",
   "execution_count": 12,
   "metadata": {
    "collapsed": false
   },
   "outputs": [
    {
     "data": {
      "text/plain": [
       "3"
      ]
     },
     "execution_count": 12,
     "metadata": {},
     "output_type": "execute_result"
    }
   ],
   "source": [
    "(1+2)::Int"
   ]
  },
  {
   "cell_type": "markdown",
   "metadata": {},
   "source": [
    "Julia has a nice way to call a different method based on what types are passed into it: multiple dispatch\n",
    "Julia determines which function to dispatch the request to at run-time."
   ]
  },
  {
   "cell_type": "markdown",
   "metadata": {},
   "source": [
    "`Example function headers:\n",
    "function collide(me::Circle, other::Rectangle)\n",
    "function collide(me::Polygon, other::Circle)\n",
    "function collide(me::Polygon, other::Rectangle)`\n",
    "\n",
    "Then when you call \n",
    "`collide(me, other)`\n",
    "it dispatches it to the correct method"
   ]
  },
  {
   "cell_type": "code",
   "execution_count": 13,
   "metadata": {
    "collapsed": false
   },
   "outputs": [],
   "source": [
    "type Point\n",
    "    x::Float32\n",
    "    y::Float32\n",
    "end\n",
    "\n",
    "type Vector2D\n",
    "    x::Float32\n",
    "    y::Float32\n",
    "end\n",
    "\n",
    "type UnitVector2D\n",
    "    x::Float32\n",
    "    y::Float32\n",
    "\n",
    "    UnitVector2D(v::Vector2D) = (len = norm(v); new(v.x/len, v.y/len))\n",
    "end"
   ]
  },
  {
   "cell_type": "code",
   "execution_count": 14,
   "metadata": {
    "collapsed": false
   },
   "outputs": [
    {
     "data": {
      "text/plain": [
       "dot (generic function with 1 method)"
      ]
     },
     "execution_count": 14,
     "metadata": {},
     "output_type": "execute_result"
    }
   ],
   "source": [
    "#Union Types:\n",
    "VecOrUnit = Union{Vector2D, UnitVector2D}\n",
    "dot(u::VecOrUnit, v::VecOrUnit) = u.x*v.x + u.y*v.y"
   ]
  },
  {
   "cell_type": "markdown",
   "metadata": {},
   "source": [
    "![Array methods](http://i.gyazo.com/029e6e3380e170f11b597c10e746601a.png)"
   ]
  },
  {
   "cell_type": "code",
   "execution_count": 15,
   "metadata": {
    "collapsed": false
   },
   "outputs": [
    {
     "data": {
      "text/plain": [
       "4×4 Array{Float64,2}:\n",
       " 0.277027  0.0456322  0.21335   0.574605 \n",
       " 0.205414  0.0257954  0.719418  0.284063 \n",
       " 0.548858  0.891233   0.172288  0.0619572\n",
       " 0.810177  0.959946   0.841337  0.317503 "
      ]
     },
     "execution_count": 15,
     "metadata": {},
     "output_type": "execute_result"
    }
   ],
   "source": [
    "# Generate random 4x4 array\n",
    "randomArray = rand(4,4)"
   ]
  },
  {
   "cell_type": "code",
   "execution_count": 16,
   "metadata": {
    "collapsed": false
   },
   "outputs": [
    {
     "data": {
      "text/plain": [
       "4×4 Array{Float64,2}:\n",
       " 0.554053  0.0912644  0.426701  1.14921 \n",
       " 0.410828  0.0515908  1.43884   0.568127\n",
       " 1.09772   1.78247    0.344576  0.123914\n",
       " 1.62035   1.91989    1.68267   0.635006"
      ]
     },
     "execution_count": 16,
     "metadata": {},
     "output_type": "execute_result"
    }
   ],
   "source": [
    "# Broadcasting allows for the easy element-by-element binary operation on arrays\n",
    "broadcast(+, randomArray, randomArray)"
   ]
  },
  {
   "cell_type": "markdown",
   "metadata": {},
   "source": [
    "### Why use Julia?\n",
    "![alt tag](http://i.gyazo.com/7e6d4b7b87a2d80f8d48e688026b5e94.png)\n",
    "Julia is fast! In the figure, the benchmarks times are relative to C, where C=1.0\n",
    "You can even call C code directly if you need even more speed."
   ]
  },
  {
   "cell_type": "code",
   "execution_count": 1,
   "metadata": {
    "collapsed": false
   },
   "outputs": [
    {
     "name": "stdout",
     "output_type": "stream",
     "text": [
      "3665644\n"
     ]
    },
    {
     "data": {
      "text/plain": [
       "\"/bin/bash\""
      ]
     },
     "execution_count": 1,
     "metadata": {},
     "output_type": "execute_result"
    }
   ],
   "source": [
    "# Calling C code\n",
    "t = ccall( (:clock, \"libc\"), Int32, ())\n",
    "println(t)\n",
    "\n",
    "path = ccall((:getenv, \"libc\"), Cstring, (Cstring,), \"SHELL\")\n",
    "unsafe_string(path)"
   ]
  },
  {
   "cell_type": "markdown",
   "metadata": {},
   "source": [
    "Julia is designed for paralellization and does not impose any style of parallelization on its users.The following example demonstrates how to count the number of heads in a large number of coin tosses in parallel."
   ]
  },
  {
   "cell_type": "code",
   "execution_count": 18,
   "metadata": {
    "collapsed": false
   },
   "outputs": [
    {
     "data": {
      "text/plain": [
       "49997452"
      ]
     },
     "execution_count": 18,
     "metadata": {},
     "output_type": "execute_result"
    }
   ],
   "source": [
    "nheads = @parallel (+) for i=1:100000000\n",
    "  rand(Bool)\n",
    "end"
   ]
  },
  {
   "cell_type": "code",
   "execution_count": 19,
   "metadata": {
    "collapsed": false
   },
   "outputs": [
    {
     "name": "stdout",
     "output_type": "stream",
     "text": [
      "  3.035767 seconds (200.02 M allocations: 2.981 GB, 7.63% gc time)\n"
     ]
    },
    {
     "data": {
      "text/plain": [
       "49997575"
      ]
     },
     "execution_count": 19,
     "metadata": {},
     "output_type": "execute_result"
    }
   ],
   "source": [
    "@time nheads = @parallel (+) for i=1:100000000\n",
    "  rand(Bool)\n",
    "end"
   ]
  },
  {
   "cell_type": "markdown",
   "metadata": {
    "collapsed": true
   },
   "source": [
    "### DataFrames"
   ]
  },
  {
   "cell_type": "code",
   "execution_count": 2,
   "metadata": {
    "collapsed": true
   },
   "outputs": [],
   "source": [
    "using DataFrames"
   ]
  },
  {
   "cell_type": "code",
   "execution_count": 21,
   "metadata": {
    "collapsed": false
   },
   "outputs": [
    {
     "name": "stdout",
     "output_type": "stream",
     "text": [
      "NA\n",
      "3.5\n",
      "[NA,3,2,5,4]\n",
      "[11,3,2,5,4]\n"
     ]
    }
   ],
   "source": [
    "# DataArray\n",
    "dv = @data([NA, 3, 2, 5, 4])\n",
    "println(mean(dv))\n",
    "\n",
    "println(mean(dropna(dv)))\n",
    "\n",
    "convert(Array, dropna(dv))\n",
    "\n",
    "println(dv)\n",
    "\n",
    "# converting na's\n",
    "dv = @data([NA, 3, 2, 5, 4])\n",
    "println(convert(Array, dv, 11))"
   ]
  },
  {
   "cell_type": "code",
   "execution_count": 22,
   "metadata": {
    "collapsed": false
   },
   "outputs": [
    {
     "data": {
      "text/html": [
       "<table class=\"data-frame\"><thead><tr><th></th><th>A</th><th>B</th></tr></thead><tbody><tr><th>1</th><td>1</td><td>M</td></tr><tr><th>2</th><td>2</td><td>F</td></tr><tr><th>3</th><td>3</td><td>F</td></tr><tr><th>4</th><td>4</td><td>M</td></tr><tr><th>5</th><td>5</td><td>F</td></tr><tr><th>6</th><td>6</td><td>M</td></tr><tr><th>7</th><td>7</td><td>F</td></tr><tr><th>8</th><td>8</td><td>F</td></tr><tr><th>9</th><td>9</td><td>M</td></tr><tr><th>10</th><td>10</td><td>M</td></tr></tbody></table>"
      ],
      "text/plain": [
       "10×2 DataFrames.DataFrame\n",
       "│ Row │ A  │ B   │\n",
       "├─────┼────┼─────┤\n",
       "│ 1   │ 1  │ \"M\" │\n",
       "│ 2   │ 2  │ \"F\" │\n",
       "│ 3   │ 3  │ \"F\" │\n",
       "│ 4   │ 4  │ \"M\" │\n",
       "│ 5   │ 5  │ \"F\" │\n",
       "│ 6   │ 6  │ \"M\" │\n",
       "│ 7   │ 7  │ \"F\" │\n",
       "│ 8   │ 8  │ \"F\" │\n",
       "│ 9   │ 9  │ \"M\" │\n",
       "│ 10  │ 10 │ \"M\" │"
      ]
     },
     "execution_count": 22,
     "metadata": {},
     "output_type": "execute_result"
    }
   ],
   "source": [
    "df = DataFrame(A = 1:10, B = [\"M\", \"F\", \"F\", \"M\", \"F\", \"M\", \"F\", \"F\", \"M\", \"M\"])"
   ]
  },
  {
   "cell_type": "code",
   "execution_count": 23,
   "metadata": {
    "collapsed": false
   },
   "outputs": [
    {
     "name": "stdout",
     "output_type": "stream",
     "text": [
      "6×2 DataFrames.DataFrame\n",
      "│ Row │ A │ B   │\n",
      "├─────┼───┼─────┤\n",
      "│ 1   │ 1 │ \"M\" │\n",
      "│ 2   │ 2 │ \"F\" │\n",
      "│ 3   │ 3 │ \"F\" │\n",
      "│ 4   │ 4 │ \"M\" │\n",
      "│ 5   │ 5 │ \"F\" │\n",
      "│ 6   │ 6 │ \"M\" │\n",
      "6×2 DataFrames.DataFrame\n",
      "│ Row │ A  │ B   │\n",
      "├─────┼────┼─────┤\n",
      "│ 1   │ 5  │ \"F\" │\n",
      "│ 2   │ 6  │ \"M\" │\n",
      "│ 3   │ 7  │ \"F\" │\n",
      "│ 4   │ 8  │ \"F\" │\n",
      "│ 5   │ 9  │ \"M\" │\n",
      "│ 6   │ 10 │ \"M\" │\n",
      "3×2 DataFrames.DataFrame\n",
      "│ Row │ A │ B   │\n",
      "├─────┼───┼─────┤\n",
      "│ 1   │ 1 │ \"M\" │\n",
      "│ 2   │ 2 │ \"F\" │\n",
      "│ 3   │ 3 │ \"F\" │\n"
     ]
    }
   ],
   "source": [
    "println(head(df))\n",
    "println(tail(df))\n",
    "println(df[1:3, :])"
   ]
  },
  {
   "cell_type": "code",
   "execution_count": 24,
   "metadata": {
    "collapsed": false
   },
   "outputs": [
    {
     "name": "stdout",
     "output_type": "stream",
     "text": [
      "A\n",
      "Min      1.0\n",
      "1st Qu.  3.25\n",
      "Median   5.5\n",
      "Mean     5.5\n",
      "3rd Qu.  7.75\n",
      "Max      10.0\n",
      "NAs      0\n",
      "NA%      0.0%\n",
      "\n",
      "B\n",
      "Length  10\n",
      "Type    String\n",
      "NAs     0\n",
      "NA%     0.0%\n",
      "Unique  2\n",
      "\n"
     ]
    }
   ],
   "source": [
    "describe(df)"
   ]
  },
  {
   "cell_type": "code",
   "execution_count": 25,
   "metadata": {
    "collapsed": false
   },
   "outputs": [
    {
     "name": "stdout",
     "output_type": "stream",
     "text": [
      "5.5\n",
      "5.5\n"
     ]
    }
   ],
   "source": [
    "println(mean(df[:A]))\n",
    "println(median(df[:A]))"
   ]
  },
  {
   "cell_type": "code",
   "execution_count": 26,
   "metadata": {
    "collapsed": false
   },
   "outputs": [
    {
     "name": "stdout",
     "output_type": "stream",
     "text": [
      "4×2 DataFrames.DataFrame\n",
      "│ Row │ A │ B        │\n",
      "├─────┼───┼──────────┤\n",
      "│ 1   │ 1 │ -1.11442 │\n",
      "│ 2   │ 2 │ -2.34239 │\n",
      "│ 3   │ 3 │ -0.53598 │\n",
      "│ 4   │ 4 │ 1.0139   │\n"
     ]
    },
    {
     "data": {
      "text/plain": [
       "2-element Array{Any,1}:\n",
       " DataArrays.DataArray{Int64,1}[[1,3,6,10]]                             \n",
       " DataArrays.DataArray{Float64,1}[[-1.11442,-3.45681,-3.99279,-2.97889]]"
      ]
     },
     "execution_count": 26,
     "metadata": {},
     "output_type": "execute_result"
    }
   ],
   "source": [
    "df2 = DataFrame(A = 1:4, B = randn(4))\n",
    "println(df2)\n",
    "colwise(cumsum, df2)"
   ]
  },
  {
   "cell_type": "markdown",
   "metadata": {},
   "source": [
    "### Example"
   ]
  },
  {
   "cell_type": "code",
   "execution_count": 3,
   "metadata": {
    "collapsed": false
   },
   "outputs": [
    {
     "data": {
      "text/html": [
       "<table class=\"data-frame\"><thead><tr><th></th><th>PassengerId</th><th>Survived</th><th>Pclass</th><th>Name</th><th>Sex</th><th>Age</th><th>SibSp</th><th>Parch</th><th>Ticket</th><th>Fare</th><th>Cabin</th><th>Embarked</th></tr></thead><tbody><tr><th>1</th><td>1</td><td>0</td><td>3</td><td>Braund, Mr. Owen Harris</td><td>male</td><td>22.0</td><td>1</td><td>0</td><td>A/5 21171</td><td>7.25</td><td>NA</td><td>S</td></tr><tr><th>2</th><td>2</td><td>1</td><td>1</td><td>Cumings, Mrs. John Bradley (Florence Briggs Thayer)</td><td>female</td><td>38.0</td><td>1</td><td>0</td><td>PC 17599</td><td>71.2833</td><td>C85</td><td>C</td></tr><tr><th>3</th><td>3</td><td>1</td><td>3</td><td>Heikkinen, Miss. Laina</td><td>female</td><td>26.0</td><td>0</td><td>0</td><td>STON/O2. 3101282</td><td>7.925</td><td>NA</td><td>S</td></tr><tr><th>4</th><td>4</td><td>1</td><td>1</td><td>Futrelle, Mrs. Jacques Heath (Lily May Peel)</td><td>female</td><td>35.0</td><td>1</td><td>0</td><td>113803</td><td>53.1</td><td>C123</td><td>S</td></tr><tr><th>5</th><td>5</td><td>0</td><td>3</td><td>Allen, Mr. William Henry</td><td>male</td><td>35.0</td><td>0</td><td>0</td><td>373450</td><td>8.05</td><td>NA</td><td>S</td></tr><tr><th>6</th><td>6</td><td>0</td><td>3</td><td>Moran, Mr. James</td><td>male</td><td>NA</td><td>0</td><td>0</td><td>330877</td><td>8.4583</td><td>NA</td><td>Q</td></tr></tbody></table>"
      ],
      "text/plain": [
       "6×12 DataFrames.DataFrame\n",
       "│ Row │ PassengerId │ Survived │ Pclass │\n",
       "├─────┼─────────────┼──────────┼────────┤\n",
       "│ 1   │ 1           │ 0        │ 3      │\n",
       "│ 2   │ 2           │ 1        │ 1      │\n",
       "│ 3   │ 3           │ 1        │ 3      │\n",
       "│ 4   │ 4           │ 1        │ 1      │\n",
       "│ 5   │ 5           │ 0        │ 3      │\n",
       "│ 6   │ 6           │ 0        │ 3      │\n",
       "\n",
       "│ Row │ Name                                                  │ Sex      │\n",
       "├─────┼───────────────────────────────────────────────────────┼──────────┤\n",
       "│ 1   │ \"Braund, Mr. Owen Harris\"                             │ \"male\"   │\n",
       "│ 2   │ \"Cumings, Mrs. John Bradley (Florence Briggs Thayer)\" │ \"female\" │\n",
       "│ 3   │ \"Heikkinen, Miss. Laina\"                              │ \"female\" │\n",
       "│ 4   │ \"Futrelle, Mrs. Jacques Heath (Lily May Peel)\"        │ \"female\" │\n",
       "│ 5   │ \"Allen, Mr. William Henry\"                            │ \"male\"   │\n",
       "│ 6   │ \"Moran, Mr. James\"                                    │ \"male\"   │\n",
       "\n",
       "│ Row │ Age  │ SibSp │ Parch │ Ticket             │ Fare    │ Cabin  │\n",
       "├─────┼──────┼───────┼───────┼────────────────────┼─────────┼────────┤\n",
       "│ 1   │ 22.0 │ 1     │ 0     │ \"A/5 21171\"        │ 7.25    │ NA     │\n",
       "│ 2   │ 38.0 │ 1     │ 0     │ \"PC 17599\"         │ 71.2833 │ \"C85\"  │\n",
       "│ 3   │ 26.0 │ 0     │ 0     │ \"STON/O2. 3101282\" │ 7.925   │ NA     │\n",
       "│ 4   │ 35.0 │ 1     │ 0     │ \"113803\"           │ 53.1    │ \"C123\" │\n",
       "│ 5   │ 35.0 │ 0     │ 0     │ \"373450\"           │ 8.05    │ NA     │\n",
       "│ 6   │ NA   │ 0     │ 0     │ \"330877\"           │ 8.4583  │ NA     │\n",
       "\n",
       "│ Row │ Embarked │\n",
       "├─────┼──────────┤\n",
       "│ 1   │ \"S\"      │\n",
       "│ 2   │ \"C\"      │\n",
       "│ 3   │ \"S\"      │\n",
       "│ 4   │ \"S\"      │\n",
       "│ 5   │ \"S\"      │\n",
       "│ 6   │ \"Q\"      │"
      ]
     },
     "execution_count": 3,
     "metadata": {},
     "output_type": "execute_result"
    }
   ],
   "source": [
    "dataframe = readtable(\"train.csv\")\n",
    "head(dataframe)"
   ]
  },
  {
   "cell_type": "markdown",
   "metadata": {},
   "source": [
    "![alt-img](https://i.gyazo.com/52718ce716290c7bc07e26f2282ecc86.png)"
   ]
  },
  {
   "cell_type": "code",
   "execution_count": 4,
   "metadata": {
    "collapsed": false
   },
   "outputs": [
    {
     "data": {
      "text/html": [
       "<table class=\"data-frame\"><thead><tr><th></th><th>PassengerId</th><th>Survived</th><th>Pclass</th><th>Name</th><th>Sex</th><th>Age</th><th>SibSp</th><th>Parch</th><th>Ticket</th><th>Fare</th><th>Cabin</th><th>Embarked</th><th>familysize</th></tr></thead><tbody><tr><th>1</th><td>1</td><td>0</td><td>3</td><td>Braund, Mr. Owen Harris</td><td>male</td><td>22.0</td><td>1</td><td>0</td><td>A/5 21171</td><td>7.25</td><td>NA</td><td>S</td><td>1</td></tr><tr><th>2</th><td>2</td><td>1</td><td>1</td><td>Cumings, Mrs. John Bradley (Florence Briggs Thayer)</td><td>female</td><td>38.0</td><td>1</td><td>0</td><td>PC 17599</td><td>71.2833</td><td>C85</td><td>C</td><td>1</td></tr><tr><th>3</th><td>3</td><td>1</td><td>3</td><td>Heikkinen, Miss. Laina</td><td>female</td><td>26.0</td><td>0</td><td>0</td><td>STON/O2. 3101282</td><td>7.925</td><td>NA</td><td>S</td><td>0</td></tr><tr><th>4</th><td>4</td><td>1</td><td>1</td><td>Futrelle, Mrs. Jacques Heath (Lily May Peel)</td><td>female</td><td>35.0</td><td>1</td><td>0</td><td>113803</td><td>53.1</td><td>C123</td><td>S</td><td>1</td></tr><tr><th>5</th><td>5</td><td>0</td><td>3</td><td>Allen, Mr. William Henry</td><td>male</td><td>35.0</td><td>0</td><td>0</td><td>373450</td><td>8.05</td><td>NA</td><td>S</td><td>0</td></tr><tr><th>6</th><td>6</td><td>0</td><td>3</td><td>Moran, Mr. James</td><td>male</td><td>NA</td><td>0</td><td>0</td><td>330877</td><td>8.4583</td><td>NA</td><td>Q</td><td>0</td></tr></tbody></table>"
      ],
      "text/plain": [
       "6×13 DataFrames.DataFrame\n",
       "│ Row │ PassengerId │ Survived │ Pclass │\n",
       "├─────┼─────────────┼──────────┼────────┤\n",
       "│ 1   │ 1           │ 0        │ 3      │\n",
       "│ 2   │ 2           │ 1        │ 1      │\n",
       "│ 3   │ 3           │ 1        │ 3      │\n",
       "│ 4   │ 4           │ 1        │ 1      │\n",
       "│ 5   │ 5           │ 0        │ 3      │\n",
       "│ 6   │ 6           │ 0        │ 3      │\n",
       "\n",
       "│ Row │ Name                                                  │ Sex      │\n",
       "├─────┼───────────────────────────────────────────────────────┼──────────┤\n",
       "│ 1   │ \"Braund, Mr. Owen Harris\"                             │ \"male\"   │\n",
       "│ 2   │ \"Cumings, Mrs. John Bradley (Florence Briggs Thayer)\" │ \"female\" │\n",
       "│ 3   │ \"Heikkinen, Miss. Laina\"                              │ \"female\" │\n",
       "│ 4   │ \"Futrelle, Mrs. Jacques Heath (Lily May Peel)\"        │ \"female\" │\n",
       "│ 5   │ \"Allen, Mr. William Henry\"                            │ \"male\"   │\n",
       "│ 6   │ \"Moran, Mr. James\"                                    │ \"male\"   │\n",
       "\n",
       "│ Row │ Age  │ SibSp │ Parch │ Ticket             │ Fare    │ Cabin  │\n",
       "├─────┼──────┼───────┼───────┼────────────────────┼─────────┼────────┤\n",
       "│ 1   │ 22.0 │ 1     │ 0     │ \"A/5 21171\"        │ 7.25    │ NA     │\n",
       "│ 2   │ 38.0 │ 1     │ 0     │ \"PC 17599\"         │ 71.2833 │ \"C85\"  │\n",
       "│ 3   │ 26.0 │ 0     │ 0     │ \"STON/O2. 3101282\" │ 7.925   │ NA     │\n",
       "│ 4   │ 35.0 │ 1     │ 0     │ \"113803\"           │ 53.1    │ \"C123\" │\n",
       "│ 5   │ 35.0 │ 0     │ 0     │ \"373450\"           │ 8.05    │ NA     │\n",
       "│ 6   │ NA   │ 0     │ 0     │ \"330877\"           │ 8.4583  │ NA     │\n",
       "\n",
       "│ Row │ Embarked │ familysize │\n",
       "├─────┼──────────┼────────────┤\n",
       "│ 1   │ \"S\"      │ 1          │\n",
       "│ 2   │ \"C\"      │ 1          │\n",
       "│ 3   │ \"S\"      │ 0          │\n",
       "│ 4   │ \"S\"      │ 1          │\n",
       "│ 5   │ \"S\"      │ 0          │\n",
       "│ 6   │ \"Q\"      │ 0          │"
      ]
     },
     "execution_count": 4,
     "metadata": {},
     "output_type": "execute_result"
    }
   ],
   "source": [
    "dataframe[:familysize] = dataframe[:SibSp] + dataframe[:Parch]\n",
    "head(dataframe)"
   ]
  },
  {
   "cell_type": "code",
   "execution_count": 5,
   "metadata": {
    "collapsed": false
   },
   "outputs": [
    {
     "data": {
      "text/html": [
       "<table class=\"data-frame\"><thead><tr><th></th><th>PassengerId</th><th>Survived</th><th>Pclass</th><th>Name</th><th>Sex</th><th>Age</th><th>SibSp</th><th>Parch</th><th>Ticket</th><th>Fare</th><th>Cabin</th><th>Embarked</th><th>familysize</th></tr></thead><tbody><tr><th>1</th><td>1</td><td>0</td><td>3</td><td>Braund, Mr. Owen Harris</td><td>male</td><td>22.0</td><td>1</td><td>0</td><td>A/5 21171</td><td>7.25</td><td>NA</td><td>S</td><td>1</td></tr><tr><th>2</th><td>2</td><td>1</td><td>1</td><td>Cumings, Mrs. John Bradley (Florence Briggs Thayer)</td><td>female</td><td>38.0</td><td>1</td><td>0</td><td>PC 17599</td><td>71.2833</td><td>C85</td><td>C</td><td>1</td></tr><tr><th>3</th><td>3</td><td>1</td><td>3</td><td>Heikkinen, Miss. Laina</td><td>female</td><td>26.0</td><td>0</td><td>0</td><td>STON/O2. 3101282</td><td>7.925</td><td>NA</td><td>S</td><td>0</td></tr><tr><th>4</th><td>4</td><td>1</td><td>1</td><td>Futrelle, Mrs. Jacques Heath (Lily May Peel)</td><td>female</td><td>35.0</td><td>1</td><td>0</td><td>113803</td><td>53.1</td><td>C123</td><td>S</td><td>1</td></tr><tr><th>5</th><td>5</td><td>0</td><td>3</td><td>Allen, Mr. William Henry</td><td>male</td><td>35.0</td><td>0</td><td>0</td><td>373450</td><td>8.05</td><td>NA</td><td>S</td><td>0</td></tr><tr><th>6</th><td>6</td><td>0</td><td>3</td><td>Moran, Mr. James</td><td>male</td><td>29.69911764705882</td><td>0</td><td>0</td><td>330877</td><td>8.4583</td><td>NA</td><td>Q</td><td>0</td></tr></tbody></table>"
      ],
      "text/plain": [
       "6×13 DataFrames.DataFrame\n",
       "│ Row │ PassengerId │ Survived │ Pclass │\n",
       "├─────┼─────────────┼──────────┼────────┤\n",
       "│ 1   │ 1           │ 0        │ 3      │\n",
       "│ 2   │ 2           │ 1        │ 1      │\n",
       "│ 3   │ 3           │ 1        │ 3      │\n",
       "│ 4   │ 4           │ 1        │ 1      │\n",
       "│ 5   │ 5           │ 0        │ 3      │\n",
       "│ 6   │ 6           │ 0        │ 3      │\n",
       "\n",
       "│ Row │ Name                                                  │ Sex      │\n",
       "├─────┼───────────────────────────────────────────────────────┼──────────┤\n",
       "│ 1   │ \"Braund, Mr. Owen Harris\"                             │ \"male\"   │\n",
       "│ 2   │ \"Cumings, Mrs. John Bradley (Florence Briggs Thayer)\" │ \"female\" │\n",
       "│ 3   │ \"Heikkinen, Miss. Laina\"                              │ \"female\" │\n",
       "│ 4   │ \"Futrelle, Mrs. Jacques Heath (Lily May Peel)\"        │ \"female\" │\n",
       "│ 5   │ \"Allen, Mr. William Henry\"                            │ \"male\"   │\n",
       "│ 6   │ \"Moran, Mr. James\"                                    │ \"male\"   │\n",
       "\n",
       "│ Row │ Age     │ SibSp │ Parch │ Ticket             │ Fare    │ Cabin  │\n",
       "├─────┼─────────┼───────┼───────┼────────────────────┼─────────┼────────┤\n",
       "│ 1   │ 22.0    │ 1     │ 0     │ \"A/5 21171\"        │ 7.25    │ NA     │\n",
       "│ 2   │ 38.0    │ 1     │ 0     │ \"PC 17599\"         │ 71.2833 │ \"C85\"  │\n",
       "│ 3   │ 26.0    │ 0     │ 0     │ \"STON/O2. 3101282\" │ 7.925   │ NA     │\n",
       "│ 4   │ 35.0    │ 1     │ 0     │ \"113803\"           │ 53.1    │ \"C123\" │\n",
       "│ 5   │ 35.0    │ 0     │ 0     │ \"373450\"           │ 8.05    │ NA     │\n",
       "│ 6   │ 29.6991 │ 0     │ 0     │ \"330877\"           │ 8.4583  │ NA     │\n",
       "\n",
       "│ Row │ Embarked │ familysize │\n",
       "├─────┼──────────┼────────────┤\n",
       "│ 1   │ \"S\"      │ 1          │\n",
       "│ 2   │ \"C\"      │ 1          │\n",
       "│ 3   │ \"S\"      │ 0          │\n",
       "│ 4   │ \"S\"      │ 1          │\n",
       "│ 5   │ \"S\"      │ 0          │\n",
       "│ 6   │ \"Q\"      │ 0          │"
      ]
     },
     "execution_count": 5,
     "metadata": {},
     "output_type": "execute_result"
    }
   ],
   "source": [
    "dataframe[:Age] = convert(Array, dataframe[:Age], mean(dropna(dataframe[:Age])))\n",
    "head(dataframe)"
   ]
  },
  {
   "cell_type": "code",
   "execution_count": 6,
   "metadata": {
    "collapsed": false
   },
   "outputs": [
    {
     "data": {
      "text/html": [
       "<table class=\"data-frame\"><thead><tr><th></th><th>PassengerId</th><th>Survived</th><th>Pclass</th><th>Name</th><th>Sex</th><th>Age</th><th>SibSp</th><th>Parch</th><th>Ticket</th><th>Fare</th><th>Cabin</th><th>Embarked</th><th>familysize</th></tr></thead><tbody><tr><th>1</th><td>1</td><td>0</td><td>3</td><td>Braund, Mr. Owen Harris</td><td>male</td><td>22.0</td><td>1</td><td>0</td><td>A/5 21171</td><td>7.25</td><td>NA</td><td>S</td><td>1</td></tr><tr><th>2</th><td>5</td><td>0</td><td>3</td><td>Allen, Mr. William Henry</td><td>male</td><td>35.0</td><td>0</td><td>0</td><td>373450</td><td>8.05</td><td>NA</td><td>S</td><td>0</td></tr><tr><th>3</th><td>6</td><td>0</td><td>3</td><td>Moran, Mr. James</td><td>male</td><td>29.69911764705882</td><td>0</td><td>0</td><td>330877</td><td>8.4583</td><td>NA</td><td>Q</td><td>0</td></tr><tr><th>4</th><td>7</td><td>0</td><td>1</td><td>McCarthy, Mr. Timothy J</td><td>male</td><td>54.0</td><td>0</td><td>0</td><td>17463</td><td>51.8625</td><td>E46</td><td>S</td><td>0</td></tr><tr><th>5</th><td>8</td><td>0</td><td>3</td><td>Palsson, Master. Gosta Leonard</td><td>male</td><td>2.0</td><td>3</td><td>1</td><td>349909</td><td>21.075</td><td>NA</td><td>S</td><td>4</td></tr><tr><th>6</th><td>13</td><td>0</td><td>3</td><td>Saundercock, Mr. William Henry</td><td>male</td><td>20.0</td><td>0</td><td>0</td><td>A/5. 2151</td><td>8.05</td><td>NA</td><td>S</td><td>0</td></tr></tbody></table>"
      ],
      "text/plain": [
       "6×13 DataFrames.DataFrame\n",
       "│ Row │ PassengerId │ Survived │ Pclass │ Name                             │\n",
       "├─────┼─────────────┼──────────┼────────┼──────────────────────────────────┤\n",
       "│ 1   │ 1           │ 0        │ 3      │ \"Braund, Mr. Owen Harris\"        │\n",
       "│ 2   │ 5           │ 0        │ 3      │ \"Allen, Mr. William Henry\"       │\n",
       "│ 3   │ 6           │ 0        │ 3      │ \"Moran, Mr. James\"               │\n",
       "│ 4   │ 7           │ 0        │ 1      │ \"McCarthy, Mr. Timothy J\"        │\n",
       "│ 5   │ 8           │ 0        │ 3      │ \"Palsson, Master. Gosta Leonard\" │\n",
       "│ 6   │ 13          │ 0        │ 3      │ \"Saundercock, Mr. William Henry\" │\n",
       "\n",
       "│ Row │ Sex    │ Age     │ SibSp │ Parch │ Ticket      │ Fare    │ Cabin │\n",
       "├─────┼────────┼─────────┼───────┼───────┼─────────────┼─────────┼───────┤\n",
       "│ 1   │ \"male\" │ 22.0    │ 1     │ 0     │ \"A/5 21171\" │ 7.25    │ NA    │\n",
       "│ 2   │ \"male\" │ 35.0    │ 0     │ 0     │ \"373450\"    │ 8.05    │ NA    │\n",
       "│ 3   │ \"male\" │ 29.6991 │ 0     │ 0     │ \"330877\"    │ 8.4583  │ NA    │\n",
       "│ 4   │ \"male\" │ 54.0    │ 0     │ 0     │ \"17463\"     │ 51.8625 │ \"E46\" │\n",
       "│ 5   │ \"male\" │ 2.0     │ 3     │ 1     │ \"349909\"    │ 21.075  │ NA    │\n",
       "│ 6   │ \"male\" │ 20.0    │ 0     │ 0     │ \"A/5. 2151\" │ 8.05    │ NA    │\n",
       "\n",
       "│ Row │ Embarked │ familysize │\n",
       "├─────┼──────────┼────────────┤\n",
       "│ 1   │ \"S\"      │ 1          │\n",
       "│ 2   │ \"S\"      │ 0          │\n",
       "│ 3   │ \"Q\"      │ 0          │\n",
       "│ 4   │ \"S\"      │ 0          │\n",
       "│ 5   │ \"S\"      │ 4          │\n",
       "│ 6   │ \"S\"      │ 0          │"
      ]
     },
     "execution_count": 6,
     "metadata": {},
     "output_type": "execute_result"
    }
   ],
   "source": [
    "head(dataframe[dataframe[:Sex] .== \"male\", :])"
   ]
  },
  {
   "cell_type": "markdown",
   "metadata": {},
   "source": [
    "### Accessing available public classic datasets"
   ]
  },
  {
   "cell_type": "code",
   "execution_count": 7,
   "metadata": {
    "collapsed": false
   },
   "outputs": [
    {
     "data": {
      "text/html": [
       "<table class=\"data-frame\"><thead><tr><th></th><th>SepalLength</th><th>SepalWidth</th><th>PetalLength</th><th>PetalWidth</th><th>Species</th></tr></thead><tbody><tr><th>1</th><td>5.1</td><td>3.5</td><td>1.4</td><td>0.2</td><td>setosa</td></tr><tr><th>2</th><td>4.9</td><td>3.0</td><td>1.4</td><td>0.2</td><td>setosa</td></tr><tr><th>3</th><td>4.7</td><td>3.2</td><td>1.3</td><td>0.2</td><td>setosa</td></tr><tr><th>4</th><td>4.6</td><td>3.1</td><td>1.5</td><td>0.2</td><td>setosa</td></tr><tr><th>5</th><td>5.0</td><td>3.6</td><td>1.4</td><td>0.2</td><td>setosa</td></tr><tr><th>6</th><td>5.4</td><td>3.9</td><td>1.7</td><td>0.4</td><td>setosa</td></tr></tbody></table>"
      ],
      "text/plain": [
       "6×5 DataFrames.DataFrame\n",
       "│ Row │ SepalLength │ SepalWidth │ PetalLength │ PetalWidth │ Species  │\n",
       "├─────┼─────────────┼────────────┼─────────────┼────────────┼──────────┤\n",
       "│ 1   │ 5.1         │ 3.5        │ 1.4         │ 0.2        │ \"setosa\" │\n",
       "│ 2   │ 4.9         │ 3.0        │ 1.4         │ 0.2        │ \"setosa\" │\n",
       "│ 3   │ 4.7         │ 3.2        │ 1.3         │ 0.2        │ \"setosa\" │\n",
       "│ 4   │ 4.6         │ 3.1        │ 1.5         │ 0.2        │ \"setosa\" │\n",
       "│ 5   │ 5.0         │ 3.6        │ 1.4         │ 0.2        │ \"setosa\" │\n",
       "│ 6   │ 5.4         │ 3.9        │ 1.7         │ 0.4        │ \"setosa\" │"
      ]
     },
     "execution_count": 7,
     "metadata": {},
     "output_type": "execute_result"
    }
   ],
   "source": [
    "using RDatasets\n",
    "iris = dataset(\"datasets\", \"iris\")\n",
    "head(iris)"
   ]
  },
  {
   "cell_type": "code",
   "execution_count": null,
   "metadata": {
    "collapsed": true
   },
   "outputs": [],
   "source": []
  }
 ],
 "metadata": {
  "anaconda-cloud": {},
  "kernelspec": {
   "display_name": "Julia 0.5.0",
   "language": "julia",
   "name": "julia-0.5"
  },
  "language_info": {
   "file_extension": ".jl",
   "mimetype": "application/julia",
   "name": "julia",
   "version": "0.5.0"
  }
 },
 "nbformat": 4,
 "nbformat_minor": 0
}

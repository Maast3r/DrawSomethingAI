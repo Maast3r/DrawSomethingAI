{
 "cells": [
  {
   "cell_type": "markdown",
   "metadata": {},
   "source": [
    "# Julia Draw Something"
   ]
  },
  {
   "cell_type": "code",
   "execution_count": 1,
   "metadata": {
    "collapsed": false
   },
   "outputs": [
    {
     "name": "stderr",
     "output_type": "stream",
     "text": [
      "I tensorflow/stream_executor/dso_loader.cc:125] successfully opened CUDA library libcublas.so.8.0 locally\n",
      "I tensorflow/stream_executor/dso_loader.cc:116] Couldn't open CUDA library libcudnn.so.5. LD_LIBRARY_PATH: /usr/local/cuda/lib64\n",
      "I tensorflow/stream_executor/cuda/cuda_dnn.cc:3459] Unable to load cuDNN DSO\n",
      "I tensorflow/stream_executor/dso_loader.cc:125] successfully opened CUDA library libcufft.so.8.0 locally\n",
      "I tensorflow/stream_executor/dso_loader.cc:125] successfully opened CUDA library libcuda.so.1 locally\n",
      "I tensorflow/stream_executor/dso_loader.cc:125] successfully opened CUDA library libcurand.so.8.0 locally\n",
      "I tensorflow/stream_executor/dso_loader.cc:128] successfully opened CUDA library libcublas.so locally\n",
      "I tensorflow/stream_executor/dso_loader.cc:128] successfully opened CUDA library libcudnn.so locally\n",
      "I tensorflow/stream_executor/dso_loader.cc:128] successfully opened CUDA library libcufft.so locally\n",
      "I tensorflow/stream_executor/dso_loader.cc:128] successfully opened CUDA library libcuda.so.1 locally\n",
      "I tensorflow/stream_executor/dso_loader.cc:128] successfully opened CUDA library libcurand.so locally\n"
     ]
    }
   ],
   "source": [
    "using DataFrames\n",
    "using TensorFlow\n",
    "using Images"
   ]
  },
  {
   "cell_type": "code",
   "execution_count": 2,
   "metadata": {
    "collapsed": false
   },
   "outputs": [],
   "source": [
    "data_set_folder = \"/raided/datasets/sketches_png/png/\"\n",
    "list_of_imgs = open(data_set_folder * \"filelist.txt\")\n",
    "img_paths = readlines(list_of_imgs)\n",
    "close(list_of_imgs)"
   ]
  },
  {
   "cell_type": "code",
   "execution_count": 3,
   "metadata": {
    "collapsed": true
   },
   "outputs": [],
   "source": [
    "train_paths = Array(String, 700)\n",
    "path_index = 1\n",
    "count = 1\n",
    "for i = 1:700\n",
    "    train_paths[i] = img_paths[path_index]\n",
    "    path_index += 1\n",
    "    count += 1\n",
    "    if count % 71 == 0\n",
    "        count = 1\n",
    "        path_index += 10\n",
    "    end\n",
    "end\n",
    "\n",
    "test_paths = Array(String, 100)\n",
    "path_index = 71\n",
    "count = 1\n",
    "for i = 1:100\n",
    "    test_paths[i] = img_paths[path_index]\n",
    "    path_index += 1\n",
    "    count += 1\n",
    "    if count % 11 == 0\n",
    "        path_index += 70\n",
    "        count = 1\n",
    "    end\n",
    "end"
   ]
  },
  {
   "cell_type": "code",
   "execution_count": 4,
   "metadata": {
    "collapsed": false
   },
   "outputs": [
    {
     "data": {
      "text/plain": [
       "250-element Array{String,1}:\n",
       " \"airplane\"     \n",
       " \"alarm clock\"  \n",
       " \"angel\"        \n",
       " \"ant\"          \n",
       " \"apple\"        \n",
       " \"arm\"          \n",
       " \"armchair\"     \n",
       " \"ashtray\"      \n",
       " \"axe\"          \n",
       " \"backpack\"     \n",
       " \"banana\"       \n",
       " \"barn\"         \n",
       " \"baseball bat\" \n",
       " ⋮              \n",
       " \"umbrella\"     \n",
       " \"van\"          \n",
       " \"vase\"         \n",
       " \"violin\"       \n",
       " \"walkie talkie\"\n",
       " \"wheel\"        \n",
       " \"wheelbarrow\"  \n",
       " \"windmill\"     \n",
       " \"wine-bottle\"  \n",
       " \"wineglass\"    \n",
       " \"wrist-watch\"  \n",
       " \"zebra\"        "
      ]
     },
     "execution_count": 4,
     "metadata": {},
     "output_type": "execute_result"
    }
   ],
   "source": [
    "files_in_folder = readdir(data_set_folder)\n",
    "labels = filter(x->isdir(data_set_folder * x) == true, files_in_folder)"
   ]
  },
  {
   "cell_type": "code",
   "execution_count": 5,
   "metadata": {
    "collapsed": false
   },
   "outputs": [
    {
     "data": {
      "text/plain": [
       "TensorFlow.Variable(<Operation 'bias'>,<Operation 'bias/Assign'>)"
      ]
     },
     "execution_count": 5,
     "metadata": {},
     "output_type": "execute_result"
    }
   ],
   "source": [
    "x = TensorFlow.placeholder(Float32)\n",
    "y_ = TensorFlow.placeholder(Float32)\n",
    "W = get_variable(\"weights\", [77841, 10], Float32)\n",
    "b = get_variable(\"bias\", [10], Float32)"
   ]
  },
  {
   "cell_type": "code",
   "execution_count": 6,
   "metadata": {
    "collapsed": false
   },
   "outputs": [
    {
     "name": "stderr",
     "output_type": "stream",
     "text": [
      "W tensorflow/core/platform/cpu_feature_guard.cc:45] The TensorFlow library wasn't compiled to use SSE4.2 instructions, but these are available on your machine and could speed up CPU computations.\n",
      "W tensorflow/core/platform/cpu_feature_guard.cc:45] The TensorFlow library wasn't compiled to use AVX instructions, but these are available on your machine and could speed up CPU computations.\n",
      "W tensorflow/core/platform/cpu_feature_guard.cc:45] The TensorFlow library wasn't compiled to use AVX2 instructions, but these are available on your machine and could speed up CPU computations.\n",
      "W tensorflow/core/platform/cpu_feature_guard.cc:45] The TensorFlow library wasn't compiled to use FMA instructions, but these are available on your machine and could speed up CPU computations.\n"
     ]
    },
    {
     "data": {
      "text/plain": [
       "<Tensor NoOp:1 shape=unknown dtype=?>"
      ]
     },
     "execution_count": 6,
     "metadata": {},
     "output_type": "execute_result"
    }
   ],
   "source": [
    "y = nn.softmax(x*W + b)\n",
    "cross_entropy = reduce_mean(-reduce_sum(y_ .* log(y), reduction_indices=[2]))\n",
    "train_step = train.minimize(train.GradientDescentOptimizer(.00001), cross_entropy)"
   ]
  },
  {
   "cell_type": "code",
   "execution_count": 7,
   "metadata": {
    "collapsed": false
   },
   "outputs": [
    {
     "data": {
      "text/plain": [
       "TestLoader (generic function with 1 method)"
      ]
     },
     "execution_count": 7,
     "metadata": {},
     "output_type": "execute_result"
    }
   ],
   "source": [
    "type DataLoader\n",
    "    cur_id::Int\n",
    "    order::Vector{Int}\n",
    "end\n",
    "\n",
    "TrainLoader() = DataLoader(1, shuffle(1:700))\n",
    "TestLoader() = DataLoader(1, shuffle(1:100))"
   ]
  },
  {
   "cell_type": "code",
   "execution_count": 8,
   "metadata": {
    "collapsed": false
   },
   "outputs": [
    {
     "name": "stdout",
     "output_type": "stream",
     "text": [
      "(1111,1111)\n",
      "25781\n",
      "1208540\n"
     ]
    }
   ],
   "source": [
    "test_image = load(\"/raided/datasets/sketches_png/png/airplane/1.png\")\n",
    "println(size(test_image))\n",
    "something = reshape(test_image, 1234321)\n",
    "black_pixels = filter(x-> x.val!=1, something)\n",
    "white_pixels = filter(x-> x.val==1, something)\n",
    "println(length(black_pixels))\n",
    "println(length(white_pixels))"
   ]
  },
  {
   "cell_type": "code",
   "execution_count": 9,
   "metadata": {
    "collapsed": false
   },
   "outputs": [
    {
     "name": "stdout",
     "output_type": "stream",
     "text": [
      "(279,279)\n",
      "6445\n",
      "71396\n"
     ]
    },
    {
     "data": {
      "image/png": "[encoded data removed]",
      "text/plain": [
       "279×279 Array{Gray{Float32},2}:\n",
       " Gray{Float32}(0.165039)  Gray{Float32}(0.393555)  …  Gray{Float32}(0.165039)\n",
       " Gray{Float32}(0.393555)  Gray{Float32}(0.938477)     Gray{Float32}(0.393555)\n",
       " Gray{Float32}(0.40625)   Gray{Float32}(0.96875)      Gray{Float32}(0.40625) \n",
       " Gray{Float32}(0.40625)   Gray{Float32}(0.96875)      Gray{Float32}(0.40625) \n",
       " Gray{Float32}(0.40625)   Gray{Float32}(0.96875)      Gray{Float32}(0.40625) \n",
       " Gray{Float32}(0.40625)   Gray{Float32}(0.96875)   …  Gray{Float32}(0.40625) \n",
       " Gray{Float32}(0.40625)   Gray{Float32}(0.96875)      Gray{Float32}(0.40625) \n",
       " Gray{Float32}(0.40625)   Gray{Float32}(0.96875)      Gray{Float32}(0.40625) \n",
       " Gray{Float32}(0.40625)   Gray{Float32}(0.96875)      Gray{Float32}(0.40625) \n",
       " Gray{Float32}(0.40625)   Gray{Float32}(0.96875)      Gray{Float32}(0.40625) \n",
       " Gray{Float32}(0.40625)   Gray{Float32}(0.96875)   …  Gray{Float32}(0.40625) \n",
       " Gray{Float32}(0.40625)   Gray{Float32}(0.96875)      Gray{Float32}(0.40625) \n",
       " Gray{Float32}(0.40625)   Gray{Float32}(0.96875)      Gray{Float32}(0.40625) \n",
       " ⋮                                                 ⋱                         \n",
       " Gray{Float32}(0.40625)   Gray{Float32}(0.96875)      Gray{Float32}(0.40625) \n",
       " Gray{Float32}(0.40625)   Gray{Float32}(0.96875)      Gray{Float32}(0.40625) \n",
       " Gray{Float32}(0.40625)   Gray{Float32}(0.96875)      Gray{Float32}(0.40625) \n",
       " Gray{Float32}(0.40625)   Gray{Float32}(0.96875)   …  Gray{Float32}(0.40625) \n",
       " Gray{Float32}(0.40625)   Gray{Float32}(0.96875)      Gray{Float32}(0.40625) \n",
       " Gray{Float32}(0.40625)   Gray{Float32}(0.96875)      Gray{Float32}(0.40625) \n",
       " Gray{Float32}(0.40625)   Gray{Float32}(0.96875)      Gray{Float32}(0.40625) \n",
       " Gray{Float32}(0.40625)   Gray{Float32}(0.96875)      Gray{Float32}(0.40625) \n",
       " Gray{Float32}(0.40625)   Gray{Float32}(0.96875)   …  Gray{Float32}(0.40625) \n",
       " Gray{Float32}(0.40625)   Gray{Float32}(0.96875)      Gray{Float32}(0.40625) \n",
       " Gray{Float32}(0.393555)  Gray{Float32}(0.938477)     Gray{Float32}(0.393555)\n",
       " Gray{Float32}(0.165039)  Gray{Float32}(0.393555)     Gray{Float32}(0.165039)"
      ]
     },
     "execution_count": 9,
     "metadata": {},
     "output_type": "execute_result"
    }
   ],
   "source": [
    "smaller_image = restrict(restrict(test_image))\n",
    "println(size(smaller_image))\n",
    "test_image = reshape(smaller_image, 77841)\n",
    "black_pixels = filter(x-> x.val!=1, test_image)\n",
    "white_pixels = filter(x-> x.val==1, test_image)\n",
    "println(length(black_pixels))\n",
    "println(length(white_pixels))\n",
    "asdf = colorim(smaller_image)"
   ]
  },
  {
   "cell_type": "code",
   "execution_count": 10,
   "metadata": {
    "collapsed": false
   },
   "outputs": [
    {
     "name": "stdout",
     "output_type": "stream",
     "text": [
      "(140,140)\n",
      "2815\n",
      "16785\n"
     ]
    },
    {
     "data": {
      "image/png": "[encoded data removed]",
      "text/plain": [
       "140×140 Array{Gray{Float32},2}:\n",
       " Gray{Float32}(0.198303)  Gray{Float32}(0.441833)  …  Gray{Float32}(0.198303)\n",
       " Gray{Float32}(0.441833)  Gray{Float32}(0.984436)     Gray{Float32}(0.441833)\n",
       " Gray{Float32}(0.445313)  Gray{Float32}(0.992188)     Gray{Float32}(0.445313)\n",
       " Gray{Float32}(0.445313)  Gray{Float32}(0.992188)     Gray{Float32}(0.445313)\n",
       " Gray{Float32}(0.445313)  Gray{Float32}(0.992188)     Gray{Float32}(0.445313)\n",
       " Gray{Float32}(0.445313)  Gray{Float32}(0.992188)  …  Gray{Float32}(0.445313)\n",
       " Gray{Float32}(0.445313)  Gray{Float32}(0.992188)     Gray{Float32}(0.445313)\n",
       " Gray{Float32}(0.445313)  Gray{Float32}(0.992188)     Gray{Float32}(0.445313)\n",
       " Gray{Float32}(0.445313)  Gray{Float32}(0.992188)     Gray{Float32}(0.445313)\n",
       " Gray{Float32}(0.445313)  Gray{Float32}(0.992188)     Gray{Float32}(0.445313)\n",
       " Gray{Float32}(0.445313)  Gray{Float32}(0.992188)  …  Gray{Float32}(0.445313)\n",
       " Gray{Float32}(0.445313)  Gray{Float32}(0.992188)     Gray{Float32}(0.445313)\n",
       " Gray{Float32}(0.445313)  Gray{Float32}(0.992188)     Gray{Float32}(0.445313)\n",
       " ⋮                                                 ⋱                         \n",
       " Gray{Float32}(0.445313)  Gray{Float32}(0.992188)     Gray{Float32}(0.445313)\n",
       " Gray{Float32}(0.445313)  Gray{Float32}(0.992188)     Gray{Float32}(0.445313)\n",
       " Gray{Float32}(0.445313)  Gray{Float32}(0.992188)  …  Gray{Float32}(0.445313)\n",
       " Gray{Float32}(0.445313)  Gray{Float32}(0.992188)     Gray{Float32}(0.445313)\n",
       " Gray{Float32}(0.445313)  Gray{Float32}(0.992188)     Gray{Float32}(0.445313)\n",
       " Gray{Float32}(0.445313)  Gray{Float32}(0.992188)     Gray{Float32}(0.445313)\n",
       " Gray{Float32}(0.445313)  Gray{Float32}(0.992188)     Gray{Float32}(0.445313)\n",
       " Gray{Float32}(0.445313)  Gray{Float32}(0.992188)  …  Gray{Float32}(0.445313)\n",
       " Gray{Float32}(0.445313)  Gray{Float32}(0.992188)     Gray{Float32}(0.445313)\n",
       " Gray{Float32}(0.445313)  Gray{Float32}(0.992188)     Gray{Float32}(0.445313)\n",
       " Gray{Float32}(0.441833)  Gray{Float32}(0.984436)     Gray{Float32}(0.441833)\n",
       " Gray{Float32}(0.198303)  Gray{Float32}(0.441833)     Gray{Float32}(0.198303)"
      ]
     },
     "execution_count": 10,
     "metadata": {},
     "output_type": "execute_result"
    }
   ],
   "source": [
    "even_smaller_image = restrict(smaller_image)\n",
    "println(size(even_smaller_image))\n",
    "test = reshape(even_smaller_image, 19600)\n",
    "black_pixels = filter(x-> x.val!=1, test)\n",
    "white_pixels = filter(x-> x.val==1, test)\n",
    "println(length(black_pixels))\n",
    "println(length(white_pixels))\n",
    "asdf = colorim(even_smaller_image)"
   ]
  },
  {
   "cell_type": "code",
   "execution_count": 11,
   "metadata": {
    "collapsed": false
   },
   "outputs": [
    {
     "data": {
      "text/plain": [
       "next_batch (generic function with 1 method)"
      ]
     },
     "execution_count": 11,
     "metadata": {},
     "output_type": "execute_result"
    }
   ],
   "source": [
    "function next_batch(loader::DataLoader, batch_size)\n",
    "    x = zeros(Float32, batch_size, 77841)\n",
    "    y = zeros(Float32, batch_size, 10)\n",
    "    for i = 1:batch_size\n",
    "        path = train_paths[loader.order[loader.cur_id]][1:end-1]\n",
    "        sketch_name = split(path, \"/\")[1]\n",
    "        img = load(data_set_folder * path)\n",
    "        img = restrict(restrict(img))\n",
    "        flatten_img = reshape(img, 77841)\n",
    "        \n",
    "        x[i, :] = flatten_img\n",
    "        label = find((x -> x == sketch_name), labels)[1]\n",
    "        y[i, label] = 1.0\n",
    "        loader.cur_id += 1\n",
    "        if loader.cur_id > 700\n",
    "            break\n",
    "        end\n",
    "    end\n",
    "    x, y\n",
    "end"
   ]
  },
  {
   "cell_type": "code",
   "execution_count": 12,
   "metadata": {
    "collapsed": false
   },
   "outputs": [
    {
     "data": {
      "text/plain": [
       "get_test (generic function with 1 method)"
      ]
     },
     "execution_count": 12,
     "metadata": {},
     "output_type": "execute_result"
    }
   ],
   "source": [
    "function get_test(loader::DataLoader)\n",
    "    x = zeros(Float32, 100, 77841)\n",
    "    y = zeros(Float32, 100, 10)\n",
    "    for i = 1:100\n",
    "        path = test_paths[loader.order[loader.cur_id]][1:end-1]\n",
    "        sketch_name = split(path, \"/\")[1]\n",
    "        img = load(data_set_folder * path)\n",
    "        img = restrict(restrict(img))\n",
    "        flatten_img = reshape(img, 77841)\n",
    "        \n",
    "        x[i, :] = flatten_img\n",
    "        label = find((x -> x == sketch_name), labels)[1]\n",
    "        println(\"--------------------------\")\n",
    "        println(label)\n",
    "        println(loader.cur_id)\n",
    "        y[i, label] = 1.0\n",
    "        loader.cur_id += 1\n",
    "        if loader.cur_id > 100\n",
    "            println(\"========================\")\n",
    "            println(sketch_name)\n",
    "            break\n",
    "        end\n",
    "    end\n",
    "    x, y\n",
    "end"
   ]
  },
  {
   "cell_type": "code",
   "execution_count": 13,
   "metadata": {
    "collapsed": false
   },
   "outputs": [
    {
     "name": "stdout",
     "output_type": "stream",
     "text": [
      "DONE BATCH 1\n",
      "DONE BATCH "
     ]
    },
    {
     "name": "stderr",
     "output_type": "stream",
     "text": [
      "I tensorflow/stream_executor/cuda/cuda_gpu_executor.cc:910] successful NUMA node read from SysFS had negative value (-1), but there must be at least one NUMA node, so returning NUMA node zero\n",
      "I tensorflow/core/common_runtime/gpu/gpu_device.cc:885] Found device 0 with properties: \n",
      "name: GeForce GTX 1070\n",
      "major: 6 minor: 1 memoryClockRate (GHz) 1.683\n",
      "pciBusID 0000:01:00.0\n",
      "Total memory: 7.92GiB\n",
      "Free memory: 7.00GiB\n",
      "I tensorflow/core/common_runtime/gpu/gpu_device.cc:906] DMA: 0 \n",
      "I tensorflow/core/common_runtime/gpu/gpu_device.cc:916] 0:   Y \n",
      "I tensorflow/core/common_runtime/gpu/gpu_device.cc:975] Creating TensorFlow device (/gpu:0) -> (device: 0, name: GeForce GTX 1070, pci bus id: 0000:01:00.0)\n"
     ]
    },
    {
     "name": "stdout",
     "output_type": "stream",
     "text": [
      "2\n",
      "DONE BATCH 3\n",
      "DONE BATCH 4\n",
      "DONE BATCH 5\n",
      "DONE BATCH 6\n",
      "DONE BATCH 7\n",
      "DONE BATCH 8\n",
      "DONE BATCH 9\n",
      "DONE BATCH 10\n",
      "DONE BATCH 11\n",
      "DONE BATCH 12\n",
      "DONE BATCH 13\n",
      "DONE BATCH 14\n",
      "DONE BATCH 15\n",
      "DONE BATCH 16\n",
      "DONE BATCH 17\n",
      "DONE BATCH 18\n",
      "DONE BATCH 19\n",
      "DONE BATCH 20\n",
      "DONE BATCH 21\n",
      "DONE BATCH 22\n",
      "DONE BATCH 23\n",
      "DONE BATCH 24\n",
      "DONE BATCH 25\n",
      "DONE BATCH 26\n",
      "DONE BATCH 27\n",
      "DONE BATCH 28\n",
      "DONE BATCH 29\n",
      "DONE BATCH 30\n",
      "DONE BATCH 31\n",
      "DONE BATCH 32\n",
      "DONE BATCH 33\n",
      "DONE BATCH 34\n",
      "DONE BATCH 35\n",
      "DONE BATCH 36\n",
      "DONE BATCH 37\n",
      "DONE BATCH 38\n",
      "DONE BATCH 39\n",
      "DONE BATCH 40\n",
      "DONE BATCH 41\n",
      "DONE BATCH 42\n",
      "DONE BATCH 43\n",
      "DONE BATCH 44\n",
      "DONE BATCH 45\n",
      "DONE BATCH 46\n",
      "DONE BATCH 47\n",
      "DONE BATCH 48\n",
      "DONE BATCH 49\n",
      "DONE BATCH 50\n",
      "DONE BATCH 51\n",
      "DONE BATCH 52\n",
      "DONE BATCH 53\n",
      "DONE BATCH 54\n",
      "DONE BATCH 55\n",
      "DONE BATCH 56\n",
      "DONE BATCH 57\n",
      "DONE BATCH 58\n",
      "DONE BATCH 59\n",
      "DONE BATCH 60\n",
      "DONE BATCH 61\n",
      "DONE BATCH 62\n",
      "DONE BATCH 63\n",
      "DONE BATCH 64\n",
      "DONE BATCH 65\n",
      "DONE BATCH 66\n",
      "DONE BATCH 67\n",
      "DONE BATCH 68\n",
      "DONE BATCH 69\n",
      "DONE BATCH 70\n"
     ]
    }
   ],
   "source": [
    "loader = TrainLoader()\n",
    "saver = train.Saver()\n",
    "gpu_options = TensorFlow.tensorflow.GPUOptions(allow_growth=true, per_process_gpu_memory_fraction=0.4)\n",
    "config = TensorFlow.tensorflow.ConfigProto(gpu_options=gpu_options)\n",
    "sess = Session(config=config)\n",
    "run(sess, initialize_all_variables())\n",
    "for i in 1:70\n",
    "    batch = next_batch(loader, 10)\n",
    "    run(sess, train_step, Dict(x=>batch[1], y_=>batch[2]))\n",
    "    println(\"DONE BATCH \", i)\n",
    "end"
   ]
  },
  {
   "cell_type": "code",
   "execution_count": 14,
   "metadata": {
    "collapsed": false
   },
   "outputs": [
    {
     "name": "stdout",
     "output_type": "stream",
     "text": [
      "/tmp/tmpDyxDDI\n"
     ]
    }
   ],
   "source": [
    "save_path = mktempdir()\n",
    "println(save_path)\n",
    "train.save(saver, sess, joinpath(save_path,\"test\"))"
   ]
  },
  {
   "cell_type": "code",
   "execution_count": 15,
   "metadata": {
    "collapsed": false
   },
   "outputs": [
    {
     "name": "stdout",
     "output_type": "stream",
     "text": [
      "--------------------------\n",
      "9\n",
      "1\n",
      "--------------------------\n",
      "6\n",
      "2\n",
      "--------------------------\n",
      "3\n",
      "3\n",
      "--------------------------\n",
      "3\n",
      "4\n",
      "--------------------------\n",
      "10\n",
      "5\n",
      "--------------------------\n",
      "6\n",
      "6\n",
      "--------------------------\n",
      "1\n",
      "7\n",
      "--------------------------\n",
      "9\n",
      "8\n",
      "--------------------------\n",
      "8\n",
      "9\n",
      "--------------------------\n",
      "4\n",
      "10\n",
      "--------------------------\n",
      "1\n",
      "11\n",
      "--------------------------\n",
      "9\n",
      "12\n",
      "--------------------------\n",
      "8\n",
      "13\n",
      "--------------------------\n",
      "4\n",
      "14\n",
      "--------------------------\n",
      "4\n",
      "15\n",
      "--------------------------\n",
      "1\n",
      "16\n",
      "--------------------------\n",
      "7\n",
      "17\n",
      "--------------------------\n",
      "1\n",
      "18\n",
      "--------------------------\n",
      "5\n",
      "19\n",
      "--------------------------\n",
      "8\n",
      "20\n",
      "--------------------------\n",
      "10\n",
      "21\n",
      "--------------------------\n",
      "6\n",
      "22\n",
      "--------------------------\n",
      "9\n",
      "23\n",
      "--------------------------\n",
      "2\n",
      "24\n",
      "--------------------------\n",
      "8\n",
      "25\n",
      "--------------------------\n",
      "7\n",
      "26\n",
      "--------------------------\n",
      "5\n",
      "27\n",
      "--------------------------\n",
      "9\n",
      "28\n",
      "--------------------------\n",
      "2\n",
      "29\n",
      "--------------------------\n",
      "8\n",
      "30\n",
      "--------------------------\n",
      "9\n",
      "31\n",
      "--------------------------\n",
      "6\n",
      "32\n",
      "--------------------------\n",
      "1\n",
      "33\n",
      "--------------------------\n",
      "4\n",
      "34\n",
      "--------------------------\n",
      "7\n",
      "35\n",
      "--------------------------\n",
      "5\n",
      "36\n",
      "--------------------------\n",
      "10\n",
      "37\n",
      "--------------------------\n",
      "1\n",
      "38\n",
      "--------------------------\n",
      "2\n",
      "39\n",
      "--------------------------\n",
      "3\n",
      "40\n",
      "--------------------------\n",
      "8\n",
      "41\n",
      "--------------------------\n",
      "6\n",
      "42\n",
      "--------------------------\n",
      "10\n",
      "43\n",
      "--------------------------\n",
      "2\n",
      "44\n",
      "--------------------------\n",
      "8\n",
      "45\n",
      "--------------------------\n",
      "4\n",
      "46\n",
      "--------------------------\n",
      "9\n",
      "47\n",
      "--------------------------\n",
      "4\n",
      "48\n",
      "--------------------------\n",
      "8\n",
      "49\n",
      "--------------------------\n",
      "3\n",
      "50\n",
      "--------------------------\n",
      "9\n",
      "51\n",
      "--------------------------\n",
      "3\n",
      "52\n",
      "--------------------------\n",
      "5\n",
      "53\n",
      "--------------------------\n",
      "5\n",
      "54\n",
      "--------------------------\n",
      "4\n",
      "55\n",
      "--------------------------\n",
      "2\n",
      "56\n",
      "--------------------------\n",
      "5\n",
      "57\n",
      "--------------------------\n",
      "7\n",
      "58\n",
      "--------------------------\n",
      "1\n",
      "59\n",
      "--------------------------\n",
      "1\n",
      "60\n",
      "--------------------------\n",
      "10\n",
      "61\n",
      "--------------------------\n",
      "3\n",
      "62\n",
      "--------------------------\n",
      "5\n",
      "63\n",
      "--------------------------\n",
      "7\n",
      "64\n",
      "--------------------------\n",
      "3\n",
      "65\n",
      "--------------------------\n",
      "3\n",
      "66\n",
      "--------------------------\n",
      "4\n",
      "67\n",
      "--------------------------\n",
      "10\n",
      "68\n",
      "--------------------------\n",
      "9\n",
      "69\n",
      "--------------------------\n",
      "10\n",
      "70\n",
      "--------------------------\n",
      "5\n",
      "71\n",
      "--------------------------\n",
      "7\n",
      "72\n",
      "--------------------------\n",
      "2\n",
      "73\n",
      "--------------------------\n",
      "1\n",
      "74\n",
      "--------------------------\n",
      "8\n",
      "75\n",
      "--------------------------\n",
      "10\n",
      "76\n",
      "--------------------------\n",
      "3\n",
      "77\n",
      "--------------------------\n",
      "6\n",
      "78\n",
      "--------------------------\n",
      "6\n",
      "79\n",
      "--------------------------\n",
      "1\n",
      "80\n",
      "--------------------------\n",
      "10\n",
      "81\n",
      "--------------------------\n",
      "7\n",
      "82\n",
      "--------------------------\n",
      "9\n",
      "83\n",
      "--------------------------\n",
      "2\n",
      "84\n",
      "--------------------------\n",
      "2\n",
      "85\n",
      "--------------------------\n",
      "2\n",
      "86\n",
      "--------------------------\n",
      "7\n",
      "87\n",
      "--------------------------\n",
      "2\n",
      "88\n",
      "--------------------------\n",
      "4\n",
      "89\n",
      "--------------------------\n",
      "6\n",
      "90\n",
      "--------------------------\n",
      "4\n",
      "91\n",
      "--------------------------\n",
      "10\n",
      "92\n",
      "--------------------------\n",
      "7\n",
      "93\n",
      "--------------------------\n",
      "8\n",
      "94\n",
      "--------------------------\n",
      "7\n",
      "95\n",
      "--------------------------\n",
      "5\n",
      "96\n",
      "--------------------------\n",
      "6\n",
      "97\n",
      "--------------------------\n",
      "3\n",
      "98\n",
      "--------------------------\n",
      "5\n",
      "99\n",
      "--------------------------\n",
      "6\n",
      "100\n",
      "========================\n",
      "arm\n"
     ]
    },
    {
     "data": {
      "text/plain": [
       "(\n",
       "Float32[0.165039 0.393555 … 0.393555 0.165039; 0.165039 0.393555 … 0.393555 0.165039; … ; 0.165039 0.393555 … 0.393555 0.165039; 0.165039 0.393555 … 0.393555 0.165039],\n",
       "\n",
       "Float32[0.0 0.0 … 1.0 0.0; 0.0 0.0 … 0.0 0.0; … ; 0.0 0.0 … 0.0 0.0; 0.0 0.0 … 0.0 0.0])"
      ]
     },
     "execution_count": 15,
     "metadata": {},
     "output_type": "execute_result"
    }
   ],
   "source": [
    "correct_prediction = indmax(y, 2) .== indmax(y_, 2)\n",
    "accuracy=reduce_mean(cast(correct_prediction, Float64))\n",
    "test_loader = TestLoader()\n",
    "testx, testy = get_test(test_loader)"
   ]
  },
  {
   "cell_type": "code",
   "execution_count": 16,
   "metadata": {
    "collapsed": false
   },
   "outputs": [
    {
     "name": "stdout",
     "output_type": "stream",
     "text": [
      "[3,6,6,6,5,5,6,3,7,3,3,3,5,6,6,3,3,3,5,3,5,6,5,7,6,7,3,5,5,3,7,5,5,5,4,5,3,6,5,5,5,4,5,7,3,3,3,7,5,6,5,7,6,3,5,3,3,3,6,5,7,5,1,5,5,5,7,6,5,6,3,5,3,3,3,6,9,5,3,7,3,5,3,5,3,3,5,3,6,6,7,3,9,5,7,5,5,6,6,3]\n",
      "[8,5,2,2,9,5,0,8,7,3,0,8,7,3,3,0,6,0,4,7,9,5,8,1,7,6,4,8,1,7,8,5,0,3,6,4,9,0,1,2,7,5,9,1,7,3,8,3,7,2,8,2,4,4,3,1,4,6,0,0,9,2,4,6,2,2,3,9,8,9,4,6,1,0,7,9,2,5,5,0,9,6,8,1,1,1,6,1,3,5,3,9,6,7,6,4,5,2,4,5]\n",
      "\n",
      " \n",
      " Accuracy: 0.07\n"
     ]
    }
   ],
   "source": [
    "println(run(sess, indmax(y, 2), Dict(x=>testx, y_=>testy)))\n",
    "println(run(sess, indmax(y_, 2), Dict(x=>testx, y_=>testy)))\n",
    "println(\"\\n \\n Accuracy: \", run(sess, accuracy, Dict(x=>testx, y_=>testy)))"
   ]
  },
  {
   "cell_type": "code",
   "execution_count": 17,
   "metadata": {
    "collapsed": false
   },
   "outputs": [
    {
     "data": {
      "text/plain": [
       "sketch_input (generic function with 1 method)"
      ]
     },
     "execution_count": 17,
     "metadata": {},
     "output_type": "execute_result"
    }
   ],
   "source": [
    "function sketch_input(path, sketch_name)\n",
    "    x = zeros(Float32, 1, 77841)\n",
    "    y = zeros(Float32, 1, 10)\n",
    "    img = load(path)\n",
    "    img = restrict(restrict(img))\n",
    "    flatten_img = reshape(img, 77841)\n",
    "    x[1, :] = flatten_img\n",
    "    \n",
    "    label = find((x -> x == sketch_name), labels)[1]\n",
    "    y[1, label] = 1.0\n",
    "    \n",
    "    x, y\n",
    "end"
   ]
  },
  {
   "cell_type": "code",
   "execution_count": 18,
   "metadata": {
    "collapsed": false
   },
   "outputs": [
    {
     "name": "stdout",
     "output_type": "stream",
     "text": [
      "Is it an ant? Answer: false.\n"
     ]
    }
   ],
   "source": [
    "sketch_path = \"/raided/datasets/sketches_png/png/airplane/73.png\"\n",
    "sketch_label = \"airplane\"\n",
    "\n",
    "test_img, test_label = sketch_input(sketch_path, sketch_label)\n",
    "what_it_thinks = labels[run(sess, indmax(y,2), Dict(x=>test_img, y_=>test_label))[1] + 1]\n",
    "println(\"Is it an \" * what_it_thinks * \"? Answer: \", (sketch_label == what_it_thinks), \".\")"
   ]
  },
  {
   "cell_type": "code",
   "execution_count": null,
   "metadata": {
    "collapsed": true
   },
   "outputs": [],
   "source": []
  }
 ],
 "metadata": {
  "anaconda-cloud": {},
  "kernelspec": {
   "display_name": "Julia 0.5.0",
   "language": "julia",
   "name": "julia-0.5"
  },
  "language_info": {
   "file_extension": ".jl",
   "mimetype": "application/julia",
   "name": "julia",
   "version": "0.5.0"
  }
 },
 "nbformat": 4,
 "nbformat_minor": 0
}
